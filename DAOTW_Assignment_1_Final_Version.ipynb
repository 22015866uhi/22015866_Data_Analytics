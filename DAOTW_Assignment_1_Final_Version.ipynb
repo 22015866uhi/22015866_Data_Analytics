{
  "nbformat": 4,
  "nbformat_minor": 0,
  "metadata": {
    "colab": {
      "provenance": [],
      "authorship_tag": "ABX9TyNjALS74dPcZWv3e5eK+nQR",
      "include_colab_link": true
    },
    "kernelspec": {
      "name": "ir",
      "display_name": "R"
    },
    "language_info": {
      "name": "R"
    }
  },
  "cells": [
    {
      "cell_type": "markdown",
      "metadata": {
        "id": "view-in-github",
        "colab_type": "text"
      },
      "source": [
        "<a href=\"https://colab.research.google.com/github/22015866uhi/22015866_Data_Analytics/blob/main/DAOTW_Assignment_1_Final_Version.ipynb\" target=\"_parent\"><img src=\"https://colab.research.google.com/assets/colab-badge.svg\" alt=\"Open In Colab\"/></a>"
      ]
    },
    {
      "cell_type": "markdown",
      "source": [
        "#**Introduction**\n",
        "\n",
        "**Project Overview**\n",
        "\n",
        "In a collaborative effort with New York City's emergency services, our aim is to unveil the intricate relationship between daily weather patterns and traffic collisions. This is not just an academic exercise; applied in reality it could be a potential lifesaver. By harnessing the predictive power of linear and DNN regression models, we intend to forecast the number of traffic collisions based on specific days and weather conditions. Such foresight could be a game-changer, enabling emergency responders to allocate resources more effectively, potentially saving lives and mitigating traffic-related hazards.\n",
        "\n",
        "**Objectives & Practical Applications**\n",
        "\n",
        "Our quest involves a deep dive into a decade's worth of New York City weather data (2012-2022) and its correlation with traffic collisions. The models we develop will serve two critical functions:\n",
        "\n",
        "**Enhanced Emergency Preparedness:**\n",
        "\n",
        "Empowering emergency services to strategically deploy police and ambulances in anticipation of higher risk periods.\n",
        "\n",
        "**Collision Prevention & Response Optimisation:**\n",
        "\n",
        "Contributing to safer roads by anticipating and preparing for peak collision periods.\n",
        "\n",
        "To achieve these, our analysis will consider factors beyond weather, such as historical collision data which could augment our \"Safe Routing\" recommendations.\n",
        "\n",
        "**Report Structure**\n",
        "\n",
        "**Part 1:**\n",
        "\n",
        "**Data Analysis & Preparation**\n",
        "\n",
        "This report segment lays the groundwork for our regression models. Here's how we've approached it:\n",
        "\n",
        "**Data Acquisition:** Utilising BigQuery, we've harvested comprehensive weather and traffic collision datasets, focusing on parameters like temperature, precipitation, visibility, and collision specifics (date, and time).\n",
        "\n",
        "**Data Hosting:** We've transformed our BigQuery findings into user-friendly CSV formats and hosted them on GitHub for seamless access and integration into our analysis pipeline.\n",
        "\n",
        "**Analytical Framework Setup:** Employing Google Colab with an R kernel, we've created a dynamic environment for our data exploration. This includes detailed documentation of our data cleaning processes and methodologies.\n",
        "\n",
        "**Part 2:**\n",
        "\n",
        "**Regression Model Development**\n",
        "\n",
        "In the forthcoming section, we'll delve into the intricacies of constructing and refining our regression models, using the cleaned and prepped data from Part 1.\n",
        "\n",
        "Methodology\n",
        "\n",
        "Data Acquisition and Hosting\n",
        "\n",
        "Our journey began with the extraction of NYPD Motor Vehicle Collision data (2012-2022) from BigQuery, followed by its amalgamation with corresponding weather data. This composite dataset, named collated_collision_data, is now conveniently stored on both BigQuery and GitHub.\n",
        "\n",
        "Data Preparation and Integration\n",
        "\n",
        "Our strategy involved meticulously sourcing high-quality weather data (2012-2020) from the Google Cloud Platform, later mirrored in our GitHub repository. A similar process was employed for NYC traffic collision data. The culmination of this effort is a rich, collated dataset, ready to be ingested into our Google Colab environment for rigorous analysis.\n",
        "\n",
        "In the next phase of our report, we'll dive into this dataset, exploring its nuances and preparing it to be the foundation of our predictive models.\n",
        "\n",
        "Firstly we can import this data into this Colab sheet that I have created an R kernel within:"
      ],
      "metadata": {
        "id": "wOeuDFEWXO4P"
      }
    },
    {
      "cell_type": "code",
      "execution_count": 1,
      "metadata": {
        "id": "3u8sYHfsFd0R"
      },
      "outputs": [],
      "source": [
        "# Read in collated collision data from github repo\n",
        "collated_collision_data <- read.csv(\"https://raw.githubusercontent.com/22015866uhi/22015866_Data_Analytics/main/collated_collision_data_2.csv\", stringsAsFactors = TRUE)\n",
        "\n",
        "# Rename collated_collision_data to ccd and re-order columns\n",
        "ccd <- collated_collision_data[order(collated_collision_data$year, collated_collision_data$mo, collated_collision_data$da),]\n",
        "row.names(ccd) <- NULL\n"
      ]
    }
  ]
}