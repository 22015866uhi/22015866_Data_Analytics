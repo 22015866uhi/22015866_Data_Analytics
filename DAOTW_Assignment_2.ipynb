{
  "nbformat": 4,
  "nbformat_minor": 0,
  "metadata": {
    "colab": {
      "provenance": []
    },
    "kernelspec": {
      "name": "python3",
      "display_name": "Python 3"
    }
  },
  "cells": [
    {
      "cell_type": "markdown",
      "source": [
        "# **DATA ANALYTICS ON THE WEB - ASSIGNMENT 2**\n",
        "\n",
        "\n",
        "# **STUDENT: 22015866**\n",
        "\n",
        "\n",
        "# **Colin Stevenson - Applied Data Science**"
      ],
      "metadata": {
        "id": "PxuqGCxYkWC8"
      }
    },
    {
      "cell_type": "markdown",
      "metadata": {
        "id": "4w9sEQx-NFJv"
      },
      "source": [
        "# **Introduction**\n",
        "\n",
        "In this report, we explore the relationship between weather conditions and traffic collisions in New York City. The primary objective is to develop predictive models that can accurately estimate the number of traffic collisions on any given day based on various weather parameters.\n",
        "\n",
        "The analysis is divided into two parts: This first part involves constructing a linear regression model, a fundamental yet powerful tool for understanding and predicting relationships between variables.\n",
        "\n",
        "The second part focuses on developing a Deep Neural Network (DNN) regression model, leveraging the advanced capabilities of machine learning.\n",
        "\n",
        "Three distinct datasets have been created and hosted on GitHub for this analysis. Each dataset incrementally introduces more weather-related variables, starting from basic data on the day of the week and number of collisions, and gradually including temperature, precipitation, and dew point. This progressive approach allows us to understand the impact of each additional weather variable on the accuracy of our predictions.\n"
      ]
    },
    {
      "cell_type": "markdown",
      "source": [
        "# **Part 1 - Linear Regression Model**"
      ],
      "metadata": {
        "id": "ntmNwEL1Bai_"
      }
    },
    {
      "cell_type": "markdown",
      "source": [
        "# **Methodology**\n",
        "\n",
        "The methodology will comprise of 4 sections:\n",
        "\n",
        "**Data Acquisition and Preparation:**\n",
        "\n",
        "We will ensure that the data is clean, and all the necessary features are included. For predicting the days with the highest number of collisions, the features related to the days of the week and other relevant variables like weather conditions will be included.\n",
        "\n",
        "**Model Building:**\n",
        "\n",
        "We will then build the linear regression model which will include features that will impact the number of collisions, such as weather conditions and day of the week.\n",
        "\n",
        "**Model Training and Evaluation:**\n",
        "\n",
        "After building the model, we'll train it with the training dataset and evaluate its performance using the test dataset.\n",
        "\n",
        "Metrics such as Mean Absolute Error (MAE) will be used for evaluation.\n",
        "\n",
        "### **Data Acquisition and Preparation**\n",
        "\n",
        "The initial phase of our analysis involves acquiring and preparing the data for our regression models. This process is fundamental to any data science project, as the quality and structure of the data directly influence the performance and reliability of the models.\n",
        "\n",
        "We now import necessary libraries and loading the datasets. We use pandas, a powerful data manipulation library, and numpy for numerical operations. Four separate datasets (df1, df2, df3) are loaded from the GitHub repository. Each of these datasets represents a different combination of variables:\n",
        "\n",
        "df1: Contains 'day' and 'NUM_COLLISIONS'.\n",
        "df2: Adds 'temp' (temperature) to the variables in df1.\n",
        "df3: Further includes 'dewp' (dew point) to the variables in df2."
      ],
      "metadata": {
        "id": "zchoqkWnrzax"
      }
    },
    {
      "cell_type": "code",
      "metadata": {
        "id": "2p-7cPGENClE",
        "colab": {
          "base_uri": "https://localhost:8080/"
        },
        "outputId": "e6b88013-8d6b-4d2c-f184-3f056ceae65e"
      },
      "source": [
        "# needed to create the data frame\n",
        "import pandas as pd\n",
        "\n",
        "# needed to help with speedy maths based calculations\n",
        "import numpy as np\n",
        "\n",
        "# create data frames from csv file we hosted on our github\n",
        "df1 = pd.read_csv('https://raw.githubusercontent.com/22015866uhi/22015866_Data_Analytics/main/linearregressiondata1.csv', index_col=0, )\n",
        "\n",
        "df2 = pd.read_csv('https://raw.githubusercontent.com/22015866uhi/22015866_Data_Analytics/main/linearregressiondata2.csv', index_col=0, )\n",
        "\n",
        "df3 = pd.read_csv('https://raw.githubusercontent.com/22015866uhi/22015866_Data_Analytics/main/linearregressiondata3.csv', index_col=0, )\n",
        "\n",
        "\n",
        "print(df1)\n",
        "print(df2)\n",
        "print(df3)"
      ],
      "execution_count": null,
      "outputs": [
        {
          "output_type": "stream",
          "name": "stdout",
          "text": [
            "     NUM_COLLISIONS\n",
            "day                \n",
            "4               381\n",
            "5               480\n",
            "6               549\n",
            "7               505\n",
            "2               389\n",
            "..              ...\n",
            "7               448\n",
            "2               355\n",
            "1               384\n",
            "3               518\n",
            "4               443\n",
            "\n",
            "[2535 rows x 1 columns]\n",
            "     temp  NUM_COLLISIONS\n",
            "day                      \n",
            "4    37.8             381\n",
            "5    27.1             480\n",
            "6    28.4             549\n",
            "7    33.4             505\n",
            "2    36.1             389\n",
            "..    ...             ...\n",
            "7    49.4             448\n",
            "2    48.0             355\n",
            "1    42.6             384\n",
            "3    39.4             518\n",
            "4    38.7             443\n",
            "\n",
            "[2535 rows x 2 columns]\n",
            "     temp  dewp  NUM_COLLISIONS\n",
            "day                            \n",
            "4    37.8  23.6             381\n",
            "5    27.1  10.5             480\n",
            "6    28.4  14.1             549\n",
            "7    33.4  18.6             505\n",
            "2    36.1  18.7             389\n",
            "..    ...   ...             ...\n",
            "7    49.4  40.9             448\n",
            "2    48.0  37.4             355\n",
            "1    42.6  30.2             384\n",
            "3    39.4  38.3             518\n",
            "4    38.7  34.9             443\n",
            "\n",
            "[2535 rows x 3 columns]\n"
          ]
        }
      ]
    },
    {
      "cell_type": "code",
      "metadata": {
        "id": "vTMxwMfGPdWJ"
      },
      "source": [
        "# A scale is not required here, but the constant will be useful\n",
        "# SCALE_NUM_COLLISIONS = 0.001"
      ],
      "execution_count": null,
      "outputs": []
    },
    {
      "cell_type": "markdown",
      "source": [
        "We now import TensorFlow and Keras, which are essential libraries for building neural network models. Although our current focus is on linear regression, importing these libraries at this stage prepares us for the subsequent Deep Neural Network regression analysis."
      ],
      "metadata": {
        "id": "fQ8nbDL_thMh"
      }
    },
    {
      "cell_type": "code",
      "source": [
        "import tensorflow as tf\n",
        "\n",
        "from tensorflow import keras\n",
        "from tensorflow.keras import layers\n",
        "\n",
        "print(tf.__version__)"
      ],
      "metadata": {
        "id": "5DzJzm8VY1rG",
        "outputId": "07fb8090-4201-4164-c952-06aa4a1798ef",
        "colab": {
          "base_uri": "https://localhost:8080/"
        }
      },
      "execution_count": null,
      "outputs": [
        {
          "output_type": "stream",
          "name": "stdout",
          "text": [
            "2.15.0\n"
          ]
        }
      ]
    },
    {
      "cell_type": "markdown",
      "source": [
        "## **Number of Collisions vs Day**"
      ],
      "metadata": {
        "id": "JovHPmArsu9S"
      }
    },
    {
      "cell_type": "markdown",
      "source": [
        "We address a crucial aspect of data preparation: restructuring the DataFrame. Since the 'day' variable is set as an index in df1, we reset it to a regular column to facilitate easier manipulation and analysis. We then reconstruct df1 to align the input variables ('day') with the target variable ('NUM_COLLISIONS'). This step is critical for ensuring that our data is in the right format for applying regression models."
      ],
      "metadata": {
        "id": "floNqQHWsjau"
      }
    },
    {
      "cell_type": "code",
      "source": [
        "# Reset the index if 'day' is set as index\n",
        "df1.reset_index(inplace=True)\n",
        "\n",
        "# Now, create the DataFrame for input data\n",
        "df1_input_data = [df1[\"day\"], df1[\"NUM_COLLISIONS\"]]\n",
        "\n",
        "# Create headers for our new DataFrame. These should correlate with the above.\n",
        "df1_input_headers = [\"day\", \"NUM_COLLISIONS\"]\n",
        "\n",
        "# Create a final DataFrame using our new DataFrame and headers.\n",
        "df1 = pd.concat(df1_input_data, axis=1, keys=df1_input_headers)\n",
        "\n",
        "print(df1)\n"
      ],
      "metadata": {
        "id": "FWRaDMLVs3mk",
        "colab": {
          "base_uri": "https://localhost:8080/"
        },
        "outputId": "2dca1698-2b47-4b91-bb21-b36a0e076a07"
      },
      "execution_count": null,
      "outputs": [
        {
          "output_type": "stream",
          "name": "stdout",
          "text": [
            "      day  NUM_COLLISIONS\n",
            "0       4             381\n",
            "1       5             480\n",
            "2       6             549\n",
            "3       7             505\n",
            "4       2             389\n",
            "...   ...             ...\n",
            "2530    7             448\n",
            "2531    2             355\n",
            "2532    1             384\n",
            "2533    3             518\n",
            "2534    4             443\n",
            "\n",
            "[2535 rows x 2 columns]\n"
          ]
        }
      ]
    },
    {
      "cell_type": "markdown",
      "source": [
        "### **NUM_COLLISIONS vs Day -  Model Development and Evaluation**\n",
        "\n",
        "We can now look at the developing the linear regression model using TensorFlow, a robust framework for building machine learning models.\n",
        "\n",
        "**Training the Model**\n",
        "\n",
        "This code block is crucial for dividing our dataset into a training set and a test set. We use an 80-20 split, meaning 80% of the data is used for training the model, and the remaining 20% is reserved for testing its performance."
      ],
      "metadata": {
        "id": "udP8VoVXzCFb"
      }
    },
    {
      "cell_type": "code",
      "source": [
        "# construct a training set for runnign through the model and a test set, we do this by using sample with 0.8 for an 80% training set and 20% for test.\n",
        "training_set_1 = df1.sample(frac=0.8, random_state=0)\n",
        "test_set_1 = df1.drop(training_set_1.index)"
      ],
      "metadata": {
        "id": "Ty0VniOOvFR0"
      },
      "execution_count": null,
      "outputs": []
    },
    {
      "cell_type": "markdown",
      "source": [
        "Here, we prepare our features (inputs) and labels (outputs) for the training and test sets. We separate the 'NUM_COLLISIONS' column from our datasets, which is the target variable we aim to predict. This separation is a standard practice in supervised learning where the model learns to predict the labels from the features."
      ],
      "metadata": {
        "id": "GSOuOOnc1PfW"
      }
    },
    {
      "cell_type": "code",
      "source": [
        "# copy the datasets and remove the final column, i.e. the output column. We do this using pop.\n",
        "training_features_1 = training_set_1.copy()\n",
        "test_features_1 = test_set_1.copy()\n",
        "\n",
        "training_labels_1 = training_features_1.pop('NUM_COLLISIONS')\n",
        "test_labels_1 = test_features_1.pop('NUM_COLLISIONS')"
      ],
      "metadata": {
        "id": "5ojr1YWGvOEj"
      },
      "execution_count": null,
      "outputs": []
    },
    {
      "cell_type": "markdown",
      "source": [
        "We print the training features for inspection and create a normalisation layer for our TensorFlow model. This layer is an essential part of preprocessing in neural networks, ensuring that our model inputs have a uniform scale."
      ],
      "metadata": {
        "id": "8GBAdv8A1o4z"
      }
    },
    {
      "cell_type": "code",
      "source": [
        "print(training_features_1)"
      ],
      "metadata": {
        "id": "n_OkqLwdx6X4",
        "outputId": "645ce989-3453-4205-cb20-c1404dc31a38",
        "colab": {
          "base_uri": "https://localhost:8080/"
        }
      },
      "execution_count": null,
      "outputs": [
        {
          "output_type": "stream",
          "name": "stdout",
          "text": [
            "      day\n",
            "828     7\n",
            "2409    4\n",
            "2249    5\n",
            "936     3\n",
            "2390    6\n",
            "...   ...\n",
            "1874    6\n",
            "718     6\n",
            "1149    7\n",
            "387     3\n",
            "1369    4\n",
            "\n",
            "[2028 rows x 1 columns]\n"
          ]
        }
      ]
    },
    {
      "cell_type": "markdown",
      "source": [
        "Normalization helps in speeding up the training process and improving the performance of the model."
      ],
      "metadata": {
        "id": "9ZNd9ixiEt5D"
      }
    },
    {
      "cell_type": "code",
      "source": [
        "# boiler plate for this model. You can see that we have used the training_features here for our normalisation layer that we try and fit to the outputs.\n",
        "normaliser_1 = tf.keras.layers.Normalization(input_shape=[1,], axis=None) # tf.keras.layers.Normalization(axis=-1)\n",
        "normaliser_1.adapt(np.array(training_features_1))"
      ],
      "metadata": {
        "id": "Qpi6HgPbveSv"
      },
      "execution_count": null,
      "outputs": []
    },
    {
      "cell_type": "markdown",
      "source": [
        "We define our linear regression model (model_1) using TensorFlow's Sequential API. The model comprises a normalisation layer followed by a dense layer with a single unit, which is characteristic of a simple linear regression model. The model is compiled with the Adam optimizer and mean absolute error as the loss function. This setup is fundamental in defining how the model learns during training."
      ],
      "metadata": {
        "id": "43Ljoltb2Q4s"
      }
    },
    {
      "cell_type": "code",
      "source": [
        "# I have decided to call the model, model_1. We add our normaliser and we are expecting a single output.\n",
        "model_1 = tf.keras.Sequential([\n",
        "    normaliser_1,\n",
        "    layers.Dense(units=1)\n",
        "])"
      ],
      "metadata": {
        "id": "y1-BThwAvhqH"
      },
      "execution_count": null,
      "outputs": []
    },
    {
      "cell_type": "code",
      "source": [
        "model_1.compile(\n",
        "    optimizer=tf.optimizers.Adam(learning_rate=0.1),\n",
        "    loss='mean_absolute_error')"
      ],
      "metadata": {
        "id": "ddgDNLTfvqOx"
      },
      "execution_count": null,
      "outputs": []
    },
    {
      "cell_type": "code",
      "source": [
        "# now we are going to fit the model where we require the training features and labels. We will run it 100 times i.e. epochs and we have applied a further 20% validation split.\n",
        "\n",
        "%%time\n",
        "history = model_1.fit(\n",
        "    training_features_1,\n",
        "    training_labels_1,\n",
        "    epochs=100,\n",
        "    verbose=0,\n",
        "    validation_split = 0.2)"
      ],
      "metadata": {
        "id": "CaJk8EUMvt5s",
        "colab": {
          "base_uri": "https://localhost:8080/"
        },
        "outputId": "7c3aa9e1-5a61-4be7-e556-b85d8ee2472a"
      },
      "execution_count": null,
      "outputs": [
        {
          "output_type": "stream",
          "name": "stdout",
          "text": [
            "CPU times: user 15.3 s, sys: 801 ms, total: 16.1 s\n",
            "Wall time: 42.7 s\n"
          ]
        }
      ]
    },
    {
      "cell_type": "markdown",
      "source": [
        "## **Number of Collisions vs Day and Temp**"
      ],
      "metadata": {
        "id": "d3AiI5v2CrFM"
      }
    },
    {
      "cell_type": "markdown",
      "source": [
        "We address a crucial aspect of data preparation: restructuring the DataFrame. Since the 'day' variable is set as an index in df1, we reset it to a regular column to facilitate easier manipulation and analysis. We then reconstruct df1 to align the input variables ('day') with the target variable ('NUM_COLLISIONS'). This step is critical for ensuring that our data is in the right format for applying regression models."
      ],
      "metadata": {
        "id": "1bwf1gVOCn3B"
      }
    },
    {
      "cell_type": "markdown",
      "source": [
        "### **Number of Collisions vs Day and Temp - Model Development and Evaluation**\n"
      ],
      "metadata": {
        "id": "TS_y_-9uspzs"
      }
    },
    {
      "cell_type": "markdown",
      "source": [
        "Firstly we create the dataframe with the variable headers and print to show the start and end rows of the dataframe for day, temp and NUM_COLLISIONS.\n",
        "\n",
        "The model development and evaluation process is then repeated for what we did with day, NUM_COLLISIONS dataframe but with 'temp' variable added:"
      ],
      "metadata": {
        "id": "qlWrOSQljpc_"
      }
    },
    {
      "cell_type": "code",
      "source": [
        "# Reset the index if 'day' is set as index\n",
        "df2.reset_index(inplace=True)\n",
        "\n",
        "# create a dataframe with the inputs and the output at the end using the imported dataframe. This can be replicated for any configuration, in this case, I have gone for day, temp, wdsp\n",
        "df2_input_data = [df2[\"day\"], df2[\"temp\"], df2[\"NUM_COLLISIONS\"]]\n",
        "# create headers for our new dataframe. These should correlate with the above.\n",
        "df2_input_headers = [\"day\", \"temp\", \"NUM_COLLISIONS\"]\n",
        "# create a final dataframe using our new dataframe and headers.\n",
        "df2 = pd.concat(df2_input_data, axis=1, keys=df2_input_headers)\n",
        "\n",
        "print(df2)"
      ],
      "metadata": {
        "id": "WHuSnr6LdC3J",
        "colab": {
          "base_uri": "https://localhost:8080/"
        },
        "outputId": "805c31a7-c492-4295-ef1b-dc02024fb9a4"
      },
      "execution_count": null,
      "outputs": [
        {
          "output_type": "stream",
          "name": "stdout",
          "text": [
            "      day  temp  NUM_COLLISIONS\n",
            "0       4  37.8             381\n",
            "1       5  27.1             480\n",
            "2       6  28.4             549\n",
            "3       7  33.4             505\n",
            "4       2  36.1             389\n",
            "...   ...   ...             ...\n",
            "2530    7  49.4             448\n",
            "2531    2  48.0             355\n",
            "2532    1  42.6             384\n",
            "2533    3  39.4             518\n",
            "2534    4  38.7             443\n",
            "\n",
            "[2535 rows x 3 columns]\n"
          ]
        }
      ]
    },
    {
      "cell_type": "code",
      "source": [
        "# construct a training set for runnign through the model and a test set, we do this by using sample with 0.8 for an 80% training set and 20% for test.\n",
        "training_set_2 = df2.sample(frac=0.8, random_state=0)\n",
        "test_set_2 = df2.drop(training_set_2.index)"
      ],
      "metadata": {
        "id": "d5JtvdLBcruq"
      },
      "execution_count": null,
      "outputs": []
    },
    {
      "cell_type": "code",
      "source": [
        "# copy the datasets and remove the final column, i.e. the output column. We do this using pop.\n",
        "training_features_2 = training_set_2.copy()\n",
        "test_features_2 = test_set_2.copy()\n",
        "\n",
        "training_labels_2 = training_features_2.pop('NUM_COLLISIONS')\n",
        "test_labels_2 = test_features_2.pop('NUM_COLLISIONS')"
      ],
      "metadata": {
        "id": "EILvYoDid0wI"
      },
      "execution_count": null,
      "outputs": []
    },
    {
      "cell_type": "code",
      "source": [
        "print(training_features_2)"
      ],
      "metadata": {
        "colab": {
          "base_uri": "https://localhost:8080/"
        },
        "id": "D4mzC71B7wWY",
        "outputId": "70dca8a2-cd0a-4c66-d5cc-e8924f2dd434"
      },
      "execution_count": null,
      "outputs": [
        {
          "output_type": "stream",
          "name": "stdout",
          "text": [
            "      day  temp\n",
            "828     7  60.5\n",
            "2409    4  67.7\n",
            "2249    5  44.3\n",
            "936     3  81.3\n",
            "2390    6  74.1\n",
            "...   ...   ...\n",
            "1874    6  35.7\n",
            "718     6  53.2\n",
            "1149    7  33.4\n",
            "387     3  34.8\n",
            "1369    4  53.4\n",
            "\n",
            "[2028 rows x 2 columns]\n"
          ]
        }
      ]
    },
    {
      "cell_type": "code",
      "source": [
        "# boiler plate for this model. You can see that we have used the training_features here for our normalisation layer that we try and fit to the outputs.\n",
        "normaliser = tf.keras.layers.Normalization(axis=-1)\n",
        "normaliser.adapt(np.array(training_features_2))"
      ],
      "metadata": {
        "id": "VQuNfPpdf9al"
      },
      "execution_count": null,
      "outputs": []
    },
    {
      "cell_type": "code",
      "source": [
        "# I have decided to call the model, model_2. We add our normaliser and we are expecting a single output.\n",
        "model_2 = tf.keras.Sequential([\n",
        "    normaliser,\n",
        "    layers.Dense(units=1)\n",
        "])"
      ],
      "metadata": {
        "id": "JKiP5GIrgIJH"
      },
      "execution_count": null,
      "outputs": []
    },
    {
      "cell_type": "code",
      "source": [
        "# more boiler plate for creating a sequential model, we need an optimiser and loss parameter. Here we are going to be using the mean absolute error MAE\n",
        "model_2.compile(\n",
        "    optimizer=tf.optimizers.Adam(learning_rate=0.1),\n",
        "    loss='mean_absolute_error')"
      ],
      "metadata": {
        "id": "4odNLaUHgNb7"
      },
      "execution_count": null,
      "outputs": []
    },
    {
      "cell_type": "code",
      "source": [
        "# now we are going to fit the model where we require the training features and labels. We will run it 100 times i.e. epochs and we have applied a further 20% validation split.\n",
        "\n",
        "%%time\n",
        "history = model_2.fit(\n",
        "    training_features_2,\n",
        "    training_labels_2,\n",
        "    epochs=100,\n",
        "    verbose=0,\n",
        "    validation_split = 0.2)"
      ],
      "metadata": {
        "id": "rW1K3GxUgQyC",
        "colab": {
          "base_uri": "https://localhost:8080/"
        },
        "outputId": "9109e102-df43-423c-b7c9-f0d16739bc01"
      },
      "execution_count": null,
      "outputs": [
        {
          "output_type": "stream",
          "name": "stdout",
          "text": [
            "CPU times: user 12.9 s, sys: 605 ms, total: 13.5 s\n",
            "Wall time: 12.8 s\n"
          ]
        }
      ]
    },
    {
      "cell_type": "markdown",
      "source": [
        "## **Number of Collisions vs Day, Temp and Dewp**"
      ],
      "metadata": {
        "id": "KtAHTS6YYGFp"
      }
    },
    {
      "cell_type": "markdown",
      "source": [
        "Firstly we create the dataframe with the variable headers and print to show the start and end rows of the dataframe for day, temp, dewp and NUM_COLLISIONS.\n",
        "\n",
        "The model development and evaluation process is then repeated for what we did with day, temp, NUM_COLLISIONS dataframe but with 'dewp' variable added:"
      ],
      "metadata": {
        "id": "69uQ1jYhlT16"
      }
    },
    {
      "cell_type": "code",
      "source": [
        "# Reset the index if 'day' is set as index\n",
        "df3.reset_index(inplace=True)\n",
        "\n",
        "# create a dataframe with the inputs and the output at the end using the imported dataframe. This can be replicated for any configuration, in this case, I have gone for day, temp, wdsp\n",
        "df3_input_data = [df3[\"day\"], df3[\"temp\"], df3[\"dewp\"], df3[\"NUM_COLLISIONS\"]]\n",
        "# create headers for our new dataframe. These should correlate with the above.\n",
        "df3_input_headers = [\"day\", \"temp\", \"dewp\", \"NUM_COLLISIONS\"]\n",
        "# create a final dataframe using our new dataframe and headers.\n",
        "df3 = pd.concat(df3_input_data, axis=1, keys=df3_input_headers)\n",
        "\n",
        "print(df3)"
      ],
      "metadata": {
        "id": "9zzk0vLtt61X",
        "colab": {
          "base_uri": "https://localhost:8080/"
        },
        "outputId": "9b8f03a1-bb60-4f83-afe0-e310182d4ed9"
      },
      "execution_count": null,
      "outputs": [
        {
          "output_type": "stream",
          "name": "stdout",
          "text": [
            "      day  temp  dewp  NUM_COLLISIONS\n",
            "0       4  37.8  23.6             381\n",
            "1       5  27.1  10.5             480\n",
            "2       6  28.4  14.1             549\n",
            "3       7  33.4  18.6             505\n",
            "4       2  36.1  18.7             389\n",
            "...   ...   ...   ...             ...\n",
            "2530    7  49.4  40.9             448\n",
            "2531    2  48.0  37.4             355\n",
            "2532    1  42.6  30.2             384\n",
            "2533    3  39.4  38.3             518\n",
            "2534    4  38.7  34.9             443\n",
            "\n",
            "[2535 rows x 4 columns]\n"
          ]
        }
      ]
    },
    {
      "cell_type": "code",
      "source": [
        "# construct a training set for runnign through the model and a test set, we do this by using sample with 0.8 for an 80% training set and 20% for test.\n",
        "training_set_3 = df3.sample(frac=0.8, random_state=0)\n",
        "test_set_3 = df3.drop(training_set_3.index)"
      ],
      "metadata": {
        "id": "2nOARsmkwiQ5"
      },
      "execution_count": null,
      "outputs": []
    },
    {
      "cell_type": "code",
      "source": [
        "# copy the datasets and remove the final column, i.e. the output column. We do this using pop.\n",
        "training_features_3 = training_set_3.copy()\n",
        "test_features_3 = test_set_3.copy()\n",
        "\n",
        "training_labels_3 = training_features_3.pop('NUM_COLLISIONS')\n",
        "test_labels_3 = test_features_3.pop('NUM_COLLISIONS')\n"
      ],
      "metadata": {
        "id": "F3J7Yb-0xT0l"
      },
      "execution_count": null,
      "outputs": []
    },
    {
      "cell_type": "code",
      "source": [
        "# Here I have put in a scale factor and divided by it. In this dataset, I had already normalised and thus it is 1. However, 1000 is what would make sense based on the data here and we can use this later when testing our model..\n",
        "training_labels_3 = training_labels_3\n",
        "test_labels_3 = test_labels_3"
      ],
      "metadata": {
        "id": "9CKzeMl90dd2"
      },
      "execution_count": null,
      "outputs": []
    },
    {
      "cell_type": "code",
      "source": [
        "# Display the first few rows of training_features_3 to check its structure\n",
        "print(training_features_3.head())\n"
      ],
      "metadata": {
        "id": "1SGOKzHQ6E5h",
        "colab": {
          "base_uri": "https://localhost:8080/"
        },
        "outputId": "b76d763e-81f7-4eaf-81eb-f21d31874e47"
      },
      "execution_count": null,
      "outputs": [
        {
          "output_type": "stream",
          "name": "stdout",
          "text": [
            "      day  temp  dewp\n",
            "828     7  60.5  48.6\n",
            "2409    4  67.7  56.8\n",
            "2249    5  44.3  24.1\n",
            "936     3  81.3  60.0\n",
            "2390    6  74.1  66.5\n"
          ]
        }
      ]
    },
    {
      "cell_type": "code",
      "source": [
        "# Normalize features\n",
        "normaliser = tf.keras.layers.Normalization(axis=-1)\n",
        "normaliser.adapt(training_features_3[['day', 'temp', 'dewp']])\n"
      ],
      "metadata": {
        "id": "0hbYWExe6VAm"
      },
      "execution_count": null,
      "outputs": []
    },
    {
      "cell_type": "code",
      "source": [
        "# Model architecture\n",
        "model_3 = tf.keras.Sequential([\n",
        "    normaliser,\n",
        "    layers.Dense(units=10, activation='relu'),\n",
        "    layers.Dense(units=1)\n",
        "])\n",
        "\n",
        "# Compile the model\n",
        "model_3.compile(optimizer=tf.optimizers.Adam(learning_rate=0.01), loss='mean_absolute_error')\n"
      ],
      "metadata": {
        "id": "dAiYCQwI6em4"
      },
      "execution_count": null,
      "outputs": []
    },
    {
      "cell_type": "code",
      "source": [
        "# Train the model\n",
        "history = model_3.fit(\n",
        "    training_features_3[['day', 'temp', 'dewp']],\n",
        "    training_labels_3,\n",
        "    epochs=100,\n",
        "    verbose=0,\n",
        "    validation_split=0.2\n",
        ")\n"
      ],
      "metadata": {
        "id": "40URDQ3o6ist"
      },
      "execution_count": null,
      "outputs": []
    },
    {
      "cell_type": "markdown",
      "source": [
        "# **Results**\n",
        "\n",
        "To establish which input values we will use in each dataframe we will create a random permutation of the indices of test_inputs. This means it generates a random sequence of row numbers taken from the test data which has not been used within the model training.\n",
        "\n",
        "We then selects rows based on these randomly shuffled indices. The result is a DataFrame (shuffle) where the rows are in a random order.\n",
        "\n",
        "The first three columns of the shuffled DataFrame to be used as predictors (or features) for a model.\n",
        "\n",
        "The result is a DataFrame (predictors) containing the selected features."
      ],
      "metadata": {
        "id": "_MVNxHslA2fG"
      }
    },
    {
      "cell_type": "code",
      "source": [
        "# Create Predictor Data Inputs\n",
        "\n",
        "# Set a random seed for reproducibility\n",
        "np.random.seed(42)\n",
        "\n",
        "# Assuming test_set_1, test_set_2, and test_set_3 have the same length and alignment\n",
        "# Shuffle indices once\n",
        "shuffled_indices = np.random.permutation(len(test_set_1))\n",
        "\n",
        "# Use the same shuffled indices for all test sets\n",
        "input_predictors_1 = test_set_1.iloc[shuffled_indices, 0:1]\n",
        "input_predictors_2 = test_set_2.iloc[shuffled_indices, 0:2]\n",
        "input_predictors_3 = test_set_3.iloc[shuffled_indices, 0:3]\n",
        "\n",
        "# Print out the first 3 rows of predictors\n",
        "print(input_predictors_1[:3])\n",
        "print(input_predictors_2[:3])\n",
        "print(input_predictors_3[:3])\n"
      ],
      "metadata": {
        "id": "OxTafyu4btTs",
        "colab": {
          "base_uri": "https://localhost:8080/"
        },
        "outputId": "7a2ec168-dda5-49c1-8b2e-e5c896e55106"
      },
      "execution_count": null,
      "outputs": [
        {
          "output_type": "stream",
          "name": "stdout",
          "text": [
            "      day\n",
            "931     5\n",
            "1413    7\n",
            "2443    3\n",
            "      day  temp\n",
            "931     5  85.4\n",
            "1413    7  48.6\n",
            "2443    3  65.3\n",
            "      day  temp  dewp\n",
            "931     5  85.4  65.7\n",
            "1413    7  48.6  42.6\n",
            "2443    3  65.3  48.5\n"
          ]
        }
      ]
    },
    {
      "cell_type": "markdown",
      "source": [
        "### **Number of Collisions Predictions vs Days**"
      ],
      "metadata": {
        "id": "3p8PCL4ZqbUn"
      }
    },
    {
      "cell_type": "code",
      "source": [
        "# we create a custom dataframe using the input_predictor dataframe created in the last step\n",
        "input_1 = input_predictors_1\n",
        "\n",
        "# next we can check this out, you can multiply by 1000 to get more realistic NUM_COLLISIONS values.\n",
        "linear_day_predictions = model_1.predict(input_1[:3])\n",
        "print(linear_day_predictions)"
      ],
      "metadata": {
        "id": "bk96l6IfjA_1",
        "colab": {
          "base_uri": "https://localhost:8080/"
        },
        "outputId": "4a2e20aa-4cd6-4f93-9639-e81db014c78d"
      },
      "execution_count": null,
      "outputs": [
        {
          "output_type": "stream",
          "name": "stdout",
          "text": [
            "1/1 [==============================] - 0s 122ms/step\n",
            "[[516.2692 ]\n",
            " [547.68146]\n",
            " [484.85706]]\n"
          ]
        }
      ]
    },
    {
      "cell_type": "markdown",
      "source": [
        "### **Predicting for Collisions against Days of the Week**"
      ],
      "metadata": {
        "id": "WglLJuh-XMJK"
      }
    },
    {
      "cell_type": "code",
      "source": [
        "# Prepare the data for prediction\n",
        "# Assuming you want to predict for all days, create a DataFrame for this\n",
        "days_data = pd.DataFrame({'day': range(1, 8)})  # 1 to 7 representing days of the week\n",
        "\n",
        "# Make predictions\n",
        "predictions = model_1.predict(days_data)\n",
        "\n",
        "# Add predictions to the DataFrame\n",
        "days_data['Predicted_Collisions'] = predictions.flatten()\n",
        "\n",
        "# Assuming the scale factor used was SCALE_NUM_COLLISIONS\n",
        "# SCALE_NUM_COLLISIONS = 0.001  # Replace with your actual scale factor\n",
        "# days_data['Predicted_Collisions'] = days_data['Predicted_Collisions'] / SCALE_NUM_COLLISIONS\n",
        "\n",
        "# Analyze which days have higher predicted collisions\n",
        "print(days_data.sort_values(by='Predicted_Collisions', ascending=False))\n"
      ],
      "metadata": {
        "id": "2auDzZg0x6be",
        "colab": {
          "base_uri": "https://localhost:8080/"
        },
        "outputId": "17b8cad2-f327-4d93-c5ca-2b0b6ad226e2"
      },
      "execution_count": null,
      "outputs": [
        {
          "output_type": "stream",
          "name": "stdout",
          "text": [
            "1/1 [==============================] - 0s 30ms/step\n",
            "   day  Predicted_Collisions\n",
            "6    7            547.681458\n",
            "5    6            531.975342\n",
            "4    5            516.269226\n",
            "3    4            500.563141\n",
            "2    3            484.857056\n",
            "1    2            469.150940\n",
            "0    1            453.444824\n"
          ]
        }
      ]
    },
    {
      "cell_type": "markdown",
      "source": [
        "**Conclusions and Insights**\n",
        "\n",
        "**Day-wise Collision Risk:** Based on these predictions, it appears that the model estimates a higher number of collisions later in the week, with the highest predicted collisions on day 7.\n",
        "\n",
        "**Actionable Insights:** Emergency services could use this information to prepare more resources or be on higher alert towards the end of the week, especially on days 6 and 7."
      ],
      "metadata": {
        "id": "HxjRyd5o0t1y"
      }
    },
    {
      "cell_type": "markdown",
      "source": [
        "### **Number of Collisions Predictions vs Days and Temp**"
      ],
      "metadata": {
        "id": "mb8W4ZJwrJo6"
      }
    },
    {
      "cell_type": "code",
      "source": [
        "# Prediction Input\n",
        "# we create a custom dataframe using the input_predictor dataframe created in the last step\n",
        "input_2 = input_predictors_2\n",
        "\n",
        "# Colliions Predictions vs Days & Temp\n",
        "linear_day_temp_predictions = model_2.predict(input_2[:3])\n",
        "print(linear_day_temp_predictions)"
      ],
      "metadata": {
        "id": "0P9Q-22G96a7",
        "colab": {
          "base_uri": "https://localhost:8080/"
        },
        "outputId": "9c7d6b7d-a1c4-44df-b2e6-118cf2827a2f"
      },
      "execution_count": null,
      "outputs": [
        {
          "output_type": "stream",
          "name": "stdout",
          "text": [
            "1/1 [==============================] - 0s 82ms/step\n",
            "[[555.37164]\n",
            " [539.4067 ]\n",
            " [497.4407 ]]\n"
          ]
        }
      ]
    },
    {
      "cell_type": "markdown",
      "source": [
        "### **Predictions vs Actual for Number of Collisions vs Day & Temp**"
      ],
      "metadata": {
        "id": "aQo05wZ1bzfM"
      }
    },
    {
      "cell_type": "code",
      "source": [
        "# Use df2 for predictions\n",
        "predictions_2 = model_2.predict(df2[['day', 'temp']])\n",
        "\n",
        "# Add predictions to df2 for analysis\n",
        "df2['Predicted_Collisions'] = predictions_2.flatten()\n",
        "\n",
        "# Analyze the predictions\n",
        "print(df2.sort_values(by='Predicted_Collisions', ascending=False))\n"
      ],
      "metadata": {
        "id": "UikcAi4-66kE",
        "colab": {
          "base_uri": "https://localhost:8080/"
        },
        "outputId": "13e05373-67a2-4803-d2af-5d4ec6ef9eb5"
      },
      "execution_count": null,
      "outputs": [
        {
          "output_type": "stream",
          "name": "stdout",
          "text": [
            "80/80 [==============================] - 0s 2ms/step\n",
            "      day  temp  NUM_COLLISIONS  Predicted_Collisions\n",
            "198     7  89.1             697            592.003967\n",
            "1338    7  85.0             715            586.679321\n",
            "1282    7  83.0             798            584.081909\n",
            "149     7  83.0             736            584.081909\n",
            "1289    7  82.8             769            583.822144\n",
            "...   ...   ...             ...                   ...\n",
            "1456    1  20.1             406            406.912476\n",
            "1822    1  19.2             494            405.743622\n",
            "768     1  18.9             454            405.354004\n",
            "1815    1   9.7             475            393.406006\n",
            "1131    1   6.9             309            389.769653\n",
            "\n",
            "[2535 rows x 4 columns]\n"
          ]
        }
      ]
    },
    {
      "cell_type": "markdown",
      "source": [
        "### **Number of Collisions Predictions vs Days, Temp and Dewp**"
      ],
      "metadata": {
        "id": "Md2ejsqr9iyo"
      }
    },
    {
      "cell_type": "code",
      "source": [
        "# Prediction input\n",
        "input_3 = input_predictors_3\n",
        "\n",
        "# Predictions\n",
        "linear_day_temp_dewp_predictions = model_3.predict(input_3[:3])\n",
        "print(linear_day_temp_dewp_predictions)\n"
      ],
      "metadata": {
        "id": "1Xfh4Sig6y5C",
        "colab": {
          "base_uri": "https://localhost:8080/"
        },
        "outputId": "97dc644b-1821-492b-d404-b75699a9e46c"
      },
      "execution_count": null,
      "outputs": [
        {
          "output_type": "stream",
          "name": "stdout",
          "text": [
            "1/1 [==============================] - 0s 96ms/step\n",
            "[[668.24963]\n",
            " [659.5333 ]\n",
            " [596.5163 ]]\n"
          ]
        }
      ]
    },
    {
      "cell_type": "markdown",
      "source": [
        "### **Predictions vs Actual for Number of Collisions vs Day & Temp**"
      ],
      "metadata": {
        "id": "E21V_EEQdLig"
      }
    },
    {
      "cell_type": "code",
      "source": [
        "# Use df3 for predictions\n",
        "predictions_3 = model_3.predict(df3[['day', 'temp', 'dewp']])\n",
        "\n",
        "# Add predictions to df3 for analysis\n",
        "df3['Predicted_Collisions'] = predictions_3.flatten()\n",
        "\n",
        "# Analyze the predictions\n",
        "print(df3.sort_values(by='Predicted_Collisions', ascending=False))\n"
      ],
      "metadata": {
        "id": "L-W5uF5j0rzZ",
        "colab": {
          "base_uri": "https://localhost:8080/"
        },
        "outputId": "c25c6e47-b58f-49d4-d078-fdd3fbcd0172"
      },
      "execution_count": null,
      "outputs": [
        {
          "output_type": "stream",
          "name": "stdout",
          "text": [
            "80/80 [==============================] - 0s 2ms/step\n",
            "      day  temp  dewp  NUM_COLLISIONS  Predicted_Collisions\n",
            "198     7  89.1  72.1             697            728.042358\n",
            "1338    7  85.0  69.2             715            712.851929\n",
            "1310    7  82.4  73.5             729            706.930298\n",
            "1282    7  83.0  69.8             798            706.659912\n",
            "2036    7  82.5  71.4             703            705.988525\n",
            "...   ...   ...   ...             ...                   ...\n",
            "40      1  25.2   8.5             400            470.635040\n",
            "26      1  24.5   7.5             429            469.160309\n",
            "386     1  21.4   5.3             465            468.675537\n",
            "1456    1  20.1   7.2             406            465.991882\n",
            "1808    1  20.9  12.3             462            459.927399\n",
            "\n",
            "[2535 rows x 5 columns]\n"
          ]
        }
      ]
    },
    {
      "cell_type": "markdown",
      "source": [
        "### **Model Comparison**"
      ],
      "metadata": {
        "id": "gba_WiDMdfSH"
      }
    },
    {
      "cell_type": "markdown",
      "source": [
        "To compare the three models against each other and determine which one is best for predictions, typically using a separate test set that was not used during training. The comparison should be based on their performance metrics, such as Mean Absolute Error (MAE) or Root Mean Squared Error (RMSE).\n",
        "\n",
        "We approach this as follows:\n",
        "\n",
        "1. **Separate Test Set**\n",
        "\n",
        "We have split the data into training and testing sets. This is crucial for evaluating the model's performance on unseen data. We then use the test_sets for df1, df2, and df3 which are the testing datasets that were split from the training data.\n",
        "\n",
        "2. **Evaluate Each Model**\n",
        "\n",
        "We can now evaluate each model on the same test set. For example, test_set_3 includes the features 'day', 'temp', and 'dewp', and we will use the relevant subset of these features for each model.\n",
        "\n",
        "We will now use the following steps to compare the MAE of each model against the other:"
      ],
      "metadata": {
        "id": "QA3FVGUM9Wyt"
      }
    },
    {
      "cell_type": "code",
      "source": [
        "# Now, we will evaluate our model using the test features and labels.\n",
        "mean_absolute_error_model_1 = model_1.evaluate(\n",
        "    test_features_1,\n",
        "    test_labels_1, verbose=0)"
      ],
      "metadata": {
        "id": "g_r2YIo8vzjS"
      },
      "execution_count": null,
      "outputs": []
    },
    {
      "cell_type": "code",
      "source": [
        "# Now, we will evaluate our model using the test features and labels.\n",
        "mean_absolute_error_model_2 = model_2.evaluate(\n",
        "    test_features_2,\n",
        "    test_labels_2, verbose=0)"
      ],
      "metadata": {
        "id": "ALdhLDb_gSjq"
      },
      "execution_count": null,
      "outputs": []
    },
    {
      "cell_type": "code",
      "source": [
        "# Now, we will evaluate our model using the test features and labels.\n",
        "mean_absolute_error_model_3 = model_3.evaluate(\n",
        "    test_features_3,\n",
        "    test_labels_3, verbose=0)"
      ],
      "metadata": {
        "id": "P4F6xJWj4vi9"
      },
      "execution_count": null,
      "outputs": []
    },
    {
      "cell_type": "code",
      "source": [
        "# The mean absolute error of the model can be printed out. Remember, we want to minimise this. It will vary on each training run due to randomisation.\n",
        "print(mean_absolute_error_model_1)\n",
        "print(mean_absolute_error_model_2)\n",
        "print(mean_absolute_error_model_3)"
      ],
      "metadata": {
        "id": "ENe5nS8Qv5vq",
        "colab": {
          "base_uri": "https://localhost:8080/"
        },
        "outputId": "92c624aa-fa38-4cd8-a369-32b73e4faf64"
      },
      "execution_count": null,
      "outputs": [
        {
          "output_type": "stream",
          "name": "stdout",
          "text": [
            "112.15725708007812\n",
            "110.32427215576172\n",
            "63.96727752685547\n"
          ]
        }
      ]
    },
    {
      "cell_type": "code",
      "source": [
        "from sklearn.metrics import mean_absolute_error\n",
        "\n",
        "# Evaluate model_1\n",
        "predictions_1 = model_1.predict(test_set_1[['day']])\n",
        "mae_1 = mean_absolute_error(test_set_1['NUM_COLLISIONS'], predictions_1.flatten())\n",
        "\n",
        "# Evaluate model_2\n",
        "predictions_2 = model_2.predict(test_set_2[['day', 'temp']])\n",
        "mae_2 = mean_absolute_error(test_set_2['NUM_COLLISIONS'], predictions_2.flatten())\n",
        "\n",
        "# Evaluate model_3\n",
        "predictions_3 = model_3.predict(test_set_3[['day', 'temp', 'dewp']])\n",
        "mae_3 = mean_absolute_error(test_set_3['NUM_COLLISIONS'], predictions_3.flatten())\n",
        "\n",
        "# Print the MAE for each model\n",
        "print(f\"MAE of Model 1: {mae_1}\")\n",
        "print(f\"MAE of Model 2: {mae_2}\")\n",
        "print(f\"MAE of Model 3: {mae_3}\")\n"
      ],
      "metadata": {
        "id": "rfcNtR9h9dMZ",
        "colab": {
          "base_uri": "https://localhost:8080/"
        },
        "outputId": "1d42bd17-1621-4b29-f5d7-ee6cd73dc26d"
      },
      "execution_count": null,
      "outputs": [
        {
          "output_type": "stream",
          "name": "stdout",
          "text": [
            "16/16 [==============================] - 0s 2ms/step\n",
            "16/16 [==============================] - 0s 2ms/step\n",
            "16/16 [==============================] - 0s 2ms/step\n",
            "MAE of Model 1: 112.15726821568356\n",
            "MAE of Model 2: 110.32426732531665\n",
            "MAE of Model 3: 63.96728070200783\n"
          ]
        }
      ]
    },
    {
      "cell_type": "markdown",
      "source": [
        "# **Conclusion**\n",
        "\n",
        "The primary objective of this analysis was to develop regression models that could predict the number of traffic collisions on any given day in New York City, aiding the emergency services in optimizing their response strategies. Three different models were developed and compared:\n",
        "\n",
        "**Model 1 (Linear Regression with 'day'):** Utilised only the day of the week as the predictor variable. The predictions from this model indicated a progressive increase in the number of collisions as the week progressed, with the highest number of collisions predicted for day 7 which is Friday. The Mean Absolute Error (MAE) for this model was approximately 112.16.\n",
        "\n",
        "**Model 2 (Linear Regression with 'day' and 'temp'):** Included both the day of the week and temperature. This model provided a nuanced understanding, showing that specific combinations of days and temperatures led to higher predicted collisions. For instance, the model predicted the highest collisions on day 7 with a temperature of 89.1. The MAE for this model was slightly lower than Model 1 at 110.32.\n",
        "\n",
        "**Model 3 (Linear Regression with 'day', 'temp', and 'dewp'):** This model indicated that certain combinations of day, temperature, and dew point were critical in predicting higher collision numbers. For example, the highest collisions were predicted on day 7 with a temperature of 89.1 and a dew point of 72.1. The MAE for this model was lower than the other two models at 63.97. It is the most accurate model among the three due to the inclusion of these additional features likely allows the model to capture more nuances and factors that influence the number of collisions, leading to more accurate predictions.\n",
        "\n",
        "\n"
      ],
      "metadata": {
        "id": "qKvOqet5AMbG"
      }
    },
    {
      "cell_type": "markdown",
      "source": [
        "# **Part 2 - DNN Regression Model**"
      ],
      "metadata": {
        "id": "8zhGsSgaCBcs"
      }
    },
    {
      "cell_type": "markdown",
      "source": [
        "### **Dataframe Creation:**\n",
        "\n",
        "We will create a DataFrame with the necessary features and the target variable (NUM_COLLISIONS)."
      ],
      "metadata": {
        "id": "dg0eMJQagw7i"
      }
    },
    {
      "cell_type": "code",
      "source": [
        "# needed to create the data frame\n",
        "import pandas as pd\n",
        "import numpy as np\n",
        "import tensorflow as tf\n",
        "import random as python_random\n",
        "\n",
        "np.random.seed(321)\n",
        "python_random.seed(321)\n",
        "tf.random.set_seed(321)\n",
        "\n",
        "\n",
        "# create data frame from csv file we hosted on our github\n",
        "df_dnn_1 = pd.read_csv('https://raw.githubusercontent.com/22015866uhi/22015866_Data_Analytics/main/dnnregressiondata1.csv', index_col=0)\n",
        "\n",
        "print(df_dnn_1)"
      ],
      "metadata": {
        "id": "OuwDgXbxCJJx",
        "colab": {
          "base_uri": "https://localhost:8080/"
        },
        "outputId": "75a98c3b-7758-4c8e-e6fc-fe2c96734fb8"
      },
      "execution_count": null,
      "outputs": [
        {
          "output_type": "stream",
          "name": "stdout",
          "text": [
            "     Aug  Dec  Feb  Jan  Jul  Jun  Mar  May  Nov  Oct  ...  Sun  Thu  Tue  \\\n",
            "Apr                                                    ...                  \n",
            "0      0    0    0    1    0    0    0    0    0    0  ...    0    0    1   \n",
            "0      0    0    0    1    0    0    0    0    0    0  ...    0    0    0   \n",
            "0      0    0    0    1    0    0    0    0    0    0  ...    0    1    0   \n",
            "0      0    0    0    1    0    0    0    0    0    0  ...    0    0    0   \n",
            "0      0    0    0    1    0    0    0    0    0    0  ...    0    0    0   \n",
            "..   ...  ...  ...  ...  ...  ...  ...  ...  ...  ...  ...  ...  ...  ...   \n",
            "0      0    1    0    0    0    0    0    0    0    0  ...    0    0    0   \n",
            "0      0    1    0    0    0    0    0    0    0    0  ...    0    0    0   \n",
            "0      0    1    0    0    0    0    0    0    0    0  ...    1    0    0   \n",
            "0      0    1    0    0    0    0    0    0    0    0  ...    0    0    0   \n",
            "0      0    1    0    0    0    0    0    0    0    0  ...    0    0    1   \n",
            "\n",
            "     Wed  year  month  temp  prcp  dewp NUM_COLLISIONS  \n",
            "Apr                                                     \n",
            "0      0  2013    Jan  37.8  0.00  23.6            381  \n",
            "0      1  2013    Jan  27.1  0.00  10.5            480  \n",
            "0      0  2013    Jan  28.4  0.00  14.1            549  \n",
            "0      0  2013    Jan  33.4  0.00  18.6            505  \n",
            "0      0  2013    Jan  36.1  0.00  18.7            389  \n",
            "..   ...   ...    ...   ...   ...   ...            ...  \n",
            "0      0  2019    Dec  49.4  0.00  40.9            448  \n",
            "0      0  2019    Dec  48.0  0.00  37.4            355  \n",
            "0      0  2019    Dec  42.6  0.00  30.2            384  \n",
            "0      0  2019    Dec  39.4  0.56  38.3            518  \n",
            "0      0  2019    Dec  38.7  0.43  34.9            443  \n",
            "\n",
            "[2535 rows x 24 columns]\n"
          ]
        }
      ]
    },
    {
      "cell_type": "code",
      "source": [
        "# Reset the index if 'day' is set as index\n",
        "df_dnn_1.reset_index(inplace=True)\n",
        "\n",
        "# make sure we have our data by printing it out\n",
        "df_dnn_1[:5]\n",
        "# df #all"
      ],
      "metadata": {
        "id": "Bf2iUa1FiF2B",
        "colab": {
          "base_uri": "https://localhost:8080/",
          "height": 235
        },
        "outputId": "0f427622-e798-4a5c-f6b4-bdc327e5eb74"
      },
      "execution_count": null,
      "outputs": [
        {
          "output_type": "execute_result",
          "data": {
            "text/plain": [
              "   Apr  Aug  Dec  Feb  Jan  Jul  Jun  Mar  May  Nov  ...  Sun  Thu  Tue  Wed  \\\n",
              "0    0    0    0    0    1    0    0    0    0    0  ...    0    0    1    0   \n",
              "1    0    0    0    0    1    0    0    0    0    0  ...    0    0    0    1   \n",
              "2    0    0    0    0    1    0    0    0    0    0  ...    0    1    0    0   \n",
              "3    0    0    0    0    1    0    0    0    0    0  ...    0    0    0    0   \n",
              "4    0    0    0    0    1    0    0    0    0    0  ...    0    0    0    0   \n",
              "\n",
              "   year  month  temp  prcp  dewp  NUM_COLLISIONS  \n",
              "0  2013    Jan  37.8   0.0  23.6             381  \n",
              "1  2013    Jan  27.1   0.0  10.5             480  \n",
              "2  2013    Jan  28.4   0.0  14.1             549  \n",
              "3  2013    Jan  33.4   0.0  18.6             505  \n",
              "4  2013    Jan  36.1   0.0  18.7             389  \n",
              "\n",
              "[5 rows x 25 columns]"
            ],
            "text/html": [
              "\n",
              "  <div id=\"df-f3e16b74-905e-4813-8e3a-923a1b385144\" class=\"colab-df-container\">\n",
              "    <div>\n",
              "<style scoped>\n",
              "    .dataframe tbody tr th:only-of-type {\n",
              "        vertical-align: middle;\n",
              "    }\n",
              "\n",
              "    .dataframe tbody tr th {\n",
              "        vertical-align: top;\n",
              "    }\n",
              "\n",
              "    .dataframe thead th {\n",
              "        text-align: right;\n",
              "    }\n",
              "</style>\n",
              "<table border=\"1\" class=\"dataframe\">\n",
              "  <thead>\n",
              "    <tr style=\"text-align: right;\">\n",
              "      <th></th>\n",
              "      <th>Apr</th>\n",
              "      <th>Aug</th>\n",
              "      <th>Dec</th>\n",
              "      <th>Feb</th>\n",
              "      <th>Jan</th>\n",
              "      <th>Jul</th>\n",
              "      <th>Jun</th>\n",
              "      <th>Mar</th>\n",
              "      <th>May</th>\n",
              "      <th>Nov</th>\n",
              "      <th>...</th>\n",
              "      <th>Sun</th>\n",
              "      <th>Thu</th>\n",
              "      <th>Tue</th>\n",
              "      <th>Wed</th>\n",
              "      <th>year</th>\n",
              "      <th>month</th>\n",
              "      <th>temp</th>\n",
              "      <th>prcp</th>\n",
              "      <th>dewp</th>\n",
              "      <th>NUM_COLLISIONS</th>\n",
              "    </tr>\n",
              "  </thead>\n",
              "  <tbody>\n",
              "    <tr>\n",
              "      <th>0</th>\n",
              "      <td>0</td>\n",
              "      <td>0</td>\n",
              "      <td>0</td>\n",
              "      <td>0</td>\n",
              "      <td>1</td>\n",
              "      <td>0</td>\n",
              "      <td>0</td>\n",
              "      <td>0</td>\n",
              "      <td>0</td>\n",
              "      <td>0</td>\n",
              "      <td>...</td>\n",
              "      <td>0</td>\n",
              "      <td>0</td>\n",
              "      <td>1</td>\n",
              "      <td>0</td>\n",
              "      <td>2013</td>\n",
              "      <td>Jan</td>\n",
              "      <td>37.8</td>\n",
              "      <td>0.0</td>\n",
              "      <td>23.6</td>\n",
              "      <td>381</td>\n",
              "    </tr>\n",
              "    <tr>\n",
              "      <th>1</th>\n",
              "      <td>0</td>\n",
              "      <td>0</td>\n",
              "      <td>0</td>\n",
              "      <td>0</td>\n",
              "      <td>1</td>\n",
              "      <td>0</td>\n",
              "      <td>0</td>\n",
              "      <td>0</td>\n",
              "      <td>0</td>\n",
              "      <td>0</td>\n",
              "      <td>...</td>\n",
              "      <td>0</td>\n",
              "      <td>0</td>\n",
              "      <td>0</td>\n",
              "      <td>1</td>\n",
              "      <td>2013</td>\n",
              "      <td>Jan</td>\n",
              "      <td>27.1</td>\n",
              "      <td>0.0</td>\n",
              "      <td>10.5</td>\n",
              "      <td>480</td>\n",
              "    </tr>\n",
              "    <tr>\n",
              "      <th>2</th>\n",
              "      <td>0</td>\n",
              "      <td>0</td>\n",
              "      <td>0</td>\n",
              "      <td>0</td>\n",
              "      <td>1</td>\n",
              "      <td>0</td>\n",
              "      <td>0</td>\n",
              "      <td>0</td>\n",
              "      <td>0</td>\n",
              "      <td>0</td>\n",
              "      <td>...</td>\n",
              "      <td>0</td>\n",
              "      <td>1</td>\n",
              "      <td>0</td>\n",
              "      <td>0</td>\n",
              "      <td>2013</td>\n",
              "      <td>Jan</td>\n",
              "      <td>28.4</td>\n",
              "      <td>0.0</td>\n",
              "      <td>14.1</td>\n",
              "      <td>549</td>\n",
              "    </tr>\n",
              "    <tr>\n",
              "      <th>3</th>\n",
              "      <td>0</td>\n",
              "      <td>0</td>\n",
              "      <td>0</td>\n",
              "      <td>0</td>\n",
              "      <td>1</td>\n",
              "      <td>0</td>\n",
              "      <td>0</td>\n",
              "      <td>0</td>\n",
              "      <td>0</td>\n",
              "      <td>0</td>\n",
              "      <td>...</td>\n",
              "      <td>0</td>\n",
              "      <td>0</td>\n",
              "      <td>0</td>\n",
              "      <td>0</td>\n",
              "      <td>2013</td>\n",
              "      <td>Jan</td>\n",
              "      <td>33.4</td>\n",
              "      <td>0.0</td>\n",
              "      <td>18.6</td>\n",
              "      <td>505</td>\n",
              "    </tr>\n",
              "    <tr>\n",
              "      <th>4</th>\n",
              "      <td>0</td>\n",
              "      <td>0</td>\n",
              "      <td>0</td>\n",
              "      <td>0</td>\n",
              "      <td>1</td>\n",
              "      <td>0</td>\n",
              "      <td>0</td>\n",
              "      <td>0</td>\n",
              "      <td>0</td>\n",
              "      <td>0</td>\n",
              "      <td>...</td>\n",
              "      <td>0</td>\n",
              "      <td>0</td>\n",
              "      <td>0</td>\n",
              "      <td>0</td>\n",
              "      <td>2013</td>\n",
              "      <td>Jan</td>\n",
              "      <td>36.1</td>\n",
              "      <td>0.0</td>\n",
              "      <td>18.7</td>\n",
              "      <td>389</td>\n",
              "    </tr>\n",
              "  </tbody>\n",
              "</table>\n",
              "<p>5 rows × 25 columns</p>\n",
              "</div>\n",
              "    <div class=\"colab-df-buttons\">\n",
              "\n",
              "  <div class=\"colab-df-container\">\n",
              "    <button class=\"colab-df-convert\" onclick=\"convertToInteractive('df-f3e16b74-905e-4813-8e3a-923a1b385144')\"\n",
              "            title=\"Convert this dataframe to an interactive table.\"\n",
              "            style=\"display:none;\">\n",
              "\n",
              "  <svg xmlns=\"http://www.w3.org/2000/svg\" height=\"24px\" viewBox=\"0 -960 960 960\">\n",
              "    <path d=\"M120-120v-720h720v720H120Zm60-500h600v-160H180v160Zm220 220h160v-160H400v160Zm0 220h160v-160H400v160ZM180-400h160v-160H180v160Zm440 0h160v-160H620v160ZM180-180h160v-160H180v160Zm440 0h160v-160H620v160Z\"/>\n",
              "  </svg>\n",
              "    </button>\n",
              "\n",
              "  <style>\n",
              "    .colab-df-container {\n",
              "      display:flex;\n",
              "      gap: 12px;\n",
              "    }\n",
              "\n",
              "    .colab-df-convert {\n",
              "      background-color: #E8F0FE;\n",
              "      border: none;\n",
              "      border-radius: 50%;\n",
              "      cursor: pointer;\n",
              "      display: none;\n",
              "      fill: #1967D2;\n",
              "      height: 32px;\n",
              "      padding: 0 0 0 0;\n",
              "      width: 32px;\n",
              "    }\n",
              "\n",
              "    .colab-df-convert:hover {\n",
              "      background-color: #E2EBFA;\n",
              "      box-shadow: 0px 1px 2px rgba(60, 64, 67, 0.3), 0px 1px 3px 1px rgba(60, 64, 67, 0.15);\n",
              "      fill: #174EA6;\n",
              "    }\n",
              "\n",
              "    .colab-df-buttons div {\n",
              "      margin-bottom: 4px;\n",
              "    }\n",
              "\n",
              "    [theme=dark] .colab-df-convert {\n",
              "      background-color: #3B4455;\n",
              "      fill: #D2E3FC;\n",
              "    }\n",
              "\n",
              "    [theme=dark] .colab-df-convert:hover {\n",
              "      background-color: #434B5C;\n",
              "      box-shadow: 0px 1px 3px 1px rgba(0, 0, 0, 0.15);\n",
              "      filter: drop-shadow(0px 1px 2px rgba(0, 0, 0, 0.3));\n",
              "      fill: #FFFFFF;\n",
              "    }\n",
              "  </style>\n",
              "\n",
              "    <script>\n",
              "      const buttonEl =\n",
              "        document.querySelector('#df-f3e16b74-905e-4813-8e3a-923a1b385144 button.colab-df-convert');\n",
              "      buttonEl.style.display =\n",
              "        google.colab.kernel.accessAllowed ? 'block' : 'none';\n",
              "\n",
              "      async function convertToInteractive(key) {\n",
              "        const element = document.querySelector('#df-f3e16b74-905e-4813-8e3a-923a1b385144');\n",
              "        const dataTable =\n",
              "          await google.colab.kernel.invokeFunction('convertToInteractive',\n",
              "                                                    [key], {});\n",
              "        if (!dataTable) return;\n",
              "\n",
              "        const docLinkHtml = 'Like what you see? Visit the ' +\n",
              "          '<a target=\"_blank\" href=https://colab.research.google.com/notebooks/data_table.ipynb>data table notebook</a>'\n",
              "          + ' to learn more about interactive tables.';\n",
              "        element.innerHTML = '';\n",
              "        dataTable['output_type'] = 'display_data';\n",
              "        await google.colab.output.renderOutput(dataTable, element);\n",
              "        const docLink = document.createElement('div');\n",
              "        docLink.innerHTML = docLinkHtml;\n",
              "        element.appendChild(docLink);\n",
              "      }\n",
              "    </script>\n",
              "  </div>\n",
              "\n",
              "\n",
              "<div id=\"df-e3dbe1b7-e749-498e-ac57-530ad09e039b\">\n",
              "  <button class=\"colab-df-quickchart\" onclick=\"quickchart('df-e3dbe1b7-e749-498e-ac57-530ad09e039b')\"\n",
              "            title=\"Suggest charts\"\n",
              "            style=\"display:none;\">\n",
              "\n",
              "<svg xmlns=\"http://www.w3.org/2000/svg\" height=\"24px\"viewBox=\"0 0 24 24\"\n",
              "     width=\"24px\">\n",
              "    <g>\n",
              "        <path d=\"M19 3H5c-1.1 0-2 .9-2 2v14c0 1.1.9 2 2 2h14c1.1 0 2-.9 2-2V5c0-1.1-.9-2-2-2zM9 17H7v-7h2v7zm4 0h-2V7h2v10zm4 0h-2v-4h2v4z\"/>\n",
              "    </g>\n",
              "</svg>\n",
              "  </button>\n",
              "\n",
              "<style>\n",
              "  .colab-df-quickchart {\n",
              "      --bg-color: #E8F0FE;\n",
              "      --fill-color: #1967D2;\n",
              "      --hover-bg-color: #E2EBFA;\n",
              "      --hover-fill-color: #174EA6;\n",
              "      --disabled-fill-color: #AAA;\n",
              "      --disabled-bg-color: #DDD;\n",
              "  }\n",
              "\n",
              "  [theme=dark] .colab-df-quickchart {\n",
              "      --bg-color: #3B4455;\n",
              "      --fill-color: #D2E3FC;\n",
              "      --hover-bg-color: #434B5C;\n",
              "      --hover-fill-color: #FFFFFF;\n",
              "      --disabled-bg-color: #3B4455;\n",
              "      --disabled-fill-color: #666;\n",
              "  }\n",
              "\n",
              "  .colab-df-quickchart {\n",
              "    background-color: var(--bg-color);\n",
              "    border: none;\n",
              "    border-radius: 50%;\n",
              "    cursor: pointer;\n",
              "    display: none;\n",
              "    fill: var(--fill-color);\n",
              "    height: 32px;\n",
              "    padding: 0;\n",
              "    width: 32px;\n",
              "  }\n",
              "\n",
              "  .colab-df-quickchart:hover {\n",
              "    background-color: var(--hover-bg-color);\n",
              "    box-shadow: 0 1px 2px rgba(60, 64, 67, 0.3), 0 1px 3px 1px rgba(60, 64, 67, 0.15);\n",
              "    fill: var(--button-hover-fill-color);\n",
              "  }\n",
              "\n",
              "  .colab-df-quickchart-complete:disabled,\n",
              "  .colab-df-quickchart-complete:disabled:hover {\n",
              "    background-color: var(--disabled-bg-color);\n",
              "    fill: var(--disabled-fill-color);\n",
              "    box-shadow: none;\n",
              "  }\n",
              "\n",
              "  .colab-df-spinner {\n",
              "    border: 2px solid var(--fill-color);\n",
              "    border-color: transparent;\n",
              "    border-bottom-color: var(--fill-color);\n",
              "    animation:\n",
              "      spin 1s steps(1) infinite;\n",
              "  }\n",
              "\n",
              "  @keyframes spin {\n",
              "    0% {\n",
              "      border-color: transparent;\n",
              "      border-bottom-color: var(--fill-color);\n",
              "      border-left-color: var(--fill-color);\n",
              "    }\n",
              "    20% {\n",
              "      border-color: transparent;\n",
              "      border-left-color: var(--fill-color);\n",
              "      border-top-color: var(--fill-color);\n",
              "    }\n",
              "    30% {\n",
              "      border-color: transparent;\n",
              "      border-left-color: var(--fill-color);\n",
              "      border-top-color: var(--fill-color);\n",
              "      border-right-color: var(--fill-color);\n",
              "    }\n",
              "    40% {\n",
              "      border-color: transparent;\n",
              "      border-right-color: var(--fill-color);\n",
              "      border-top-color: var(--fill-color);\n",
              "    }\n",
              "    60% {\n",
              "      border-color: transparent;\n",
              "      border-right-color: var(--fill-color);\n",
              "    }\n",
              "    80% {\n",
              "      border-color: transparent;\n",
              "      border-right-color: var(--fill-color);\n",
              "      border-bottom-color: var(--fill-color);\n",
              "    }\n",
              "    90% {\n",
              "      border-color: transparent;\n",
              "      border-bottom-color: var(--fill-color);\n",
              "    }\n",
              "  }\n",
              "</style>\n",
              "\n",
              "  <script>\n",
              "    async function quickchart(key) {\n",
              "      const quickchartButtonEl =\n",
              "        document.querySelector('#' + key + ' button');\n",
              "      quickchartButtonEl.disabled = true;  // To prevent multiple clicks.\n",
              "      quickchartButtonEl.classList.add('colab-df-spinner');\n",
              "      try {\n",
              "        const charts = await google.colab.kernel.invokeFunction(\n",
              "            'suggestCharts', [key], {});\n",
              "      } catch (error) {\n",
              "        console.error('Error during call to suggestCharts:', error);\n",
              "      }\n",
              "      quickchartButtonEl.classList.remove('colab-df-spinner');\n",
              "      quickchartButtonEl.classList.add('colab-df-quickchart-complete');\n",
              "    }\n",
              "    (() => {\n",
              "      let quickchartButtonEl =\n",
              "        document.querySelector('#df-e3dbe1b7-e749-498e-ac57-530ad09e039b button');\n",
              "      quickchartButtonEl.style.display =\n",
              "        google.colab.kernel.accessAllowed ? 'block' : 'none';\n",
              "    })();\n",
              "  </script>\n",
              "</div>\n",
              "    </div>\n",
              "  </div>\n"
            ]
          },
          "metadata": {},
          "execution_count": 41
        }
      ]
    },
    {
      "cell_type": "code",
      "source": [
        "dnn_input_data = [df_dnn_1[\"year\"], df_dnn_1[\"temp\"], df_dnn_1[\"dewp\"], df_dnn_1[\"prcp\"], df_dnn_1[\"Sat\"], df_dnn_1[\"Sun\"], df_dnn_1[\"Mon\"], df_dnn_1[\"Tue\"], df_dnn_1[\"Wed\"], df_dnn_1[\"Thu\"], df_dnn_1[\"Fri\"], df_dnn_1[\"Jan\"], df_dnn_1[\"Feb\"], df_dnn_1[\"Mar\"], df_dnn_1[\"Apr\"], df_dnn_1[\"May\"], df_dnn_1[\"Jun\"], df_dnn_1[\"Jul\"], df_dnn_1[\"Aug\"], df_dnn_1[\"Sep\"], df_dnn_1[\"Oct\"], df_dnn_1[\"Nov\"], df_dnn_1[\"Dec\"], df_dnn_1[\"NUM_COLLISIONS\"]]\n",
        "headers = [\"year\",\"temp\", \"dewp\", \"prcp\", \"Sat\",\"Sun\",\"Mon\",\"Tue\",\"Wed\",\"Thu\",\"Fri\",\"Jan\",\"Feb\",\"Mar\",\"Apr\",\"May\",\"Jun\",\"Jul\",\"Aug\",\"Sep\",\"Oct\",\"Nov\",\"Dec\",\"NUM_COLLISIONS\"]\n",
        "df_dnn_1_input = pd.concat(dnn_input_data, axis=1, keys=headers)\n",
        "df_dnn_1_input.head()"
      ],
      "metadata": {
        "id": "CQon4_FGi_r9",
        "colab": {
          "base_uri": "https://localhost:8080/",
          "height": 235
        },
        "outputId": "530ad99e-b6f4-4efe-d153-92820f2491bd"
      },
      "execution_count": null,
      "outputs": [
        {
          "output_type": "execute_result",
          "data": {
            "text/plain": [
              "   year  temp  dewp  prcp  Sat  Sun  Mon  Tue  Wed  Thu  ...  Apr  May  Jun  \\\n",
              "0  2013  37.8  23.6   0.0    0    0    0    1    0    0  ...    0    0    0   \n",
              "1  2013  27.1  10.5   0.0    0    0    0    0    1    0  ...    0    0    0   \n",
              "2  2013  28.4  14.1   0.0    0    0    0    0    0    1  ...    0    0    0   \n",
              "3  2013  33.4  18.6   0.0    0    0    0    0    0    0  ...    0    0    0   \n",
              "4  2013  36.1  18.7   0.0    1    0    0    0    0    0  ...    0    0    0   \n",
              "\n",
              "   Jul  Aug  Sep  Oct  Nov  Dec  NUM_COLLISIONS  \n",
              "0    0    0    0    0    0    0             381  \n",
              "1    0    0    0    0    0    0             480  \n",
              "2    0    0    0    0    0    0             549  \n",
              "3    0    0    0    0    0    0             505  \n",
              "4    0    0    0    0    0    0             389  \n",
              "\n",
              "[5 rows x 24 columns]"
            ],
            "text/html": [
              "\n",
              "  <div id=\"df-127e0f20-b21f-4e55-8b32-75d22b4afb40\" class=\"colab-df-container\">\n",
              "    <div>\n",
              "<style scoped>\n",
              "    .dataframe tbody tr th:only-of-type {\n",
              "        vertical-align: middle;\n",
              "    }\n",
              "\n",
              "    .dataframe tbody tr th {\n",
              "        vertical-align: top;\n",
              "    }\n",
              "\n",
              "    .dataframe thead th {\n",
              "        text-align: right;\n",
              "    }\n",
              "</style>\n",
              "<table border=\"1\" class=\"dataframe\">\n",
              "  <thead>\n",
              "    <tr style=\"text-align: right;\">\n",
              "      <th></th>\n",
              "      <th>year</th>\n",
              "      <th>temp</th>\n",
              "      <th>dewp</th>\n",
              "      <th>prcp</th>\n",
              "      <th>Sat</th>\n",
              "      <th>Sun</th>\n",
              "      <th>Mon</th>\n",
              "      <th>Tue</th>\n",
              "      <th>Wed</th>\n",
              "      <th>Thu</th>\n",
              "      <th>...</th>\n",
              "      <th>Apr</th>\n",
              "      <th>May</th>\n",
              "      <th>Jun</th>\n",
              "      <th>Jul</th>\n",
              "      <th>Aug</th>\n",
              "      <th>Sep</th>\n",
              "      <th>Oct</th>\n",
              "      <th>Nov</th>\n",
              "      <th>Dec</th>\n",
              "      <th>NUM_COLLISIONS</th>\n",
              "    </tr>\n",
              "  </thead>\n",
              "  <tbody>\n",
              "    <tr>\n",
              "      <th>0</th>\n",
              "      <td>2013</td>\n",
              "      <td>37.8</td>\n",
              "      <td>23.6</td>\n",
              "      <td>0.0</td>\n",
              "      <td>0</td>\n",
              "      <td>0</td>\n",
              "      <td>0</td>\n",
              "      <td>1</td>\n",
              "      <td>0</td>\n",
              "      <td>0</td>\n",
              "      <td>...</td>\n",
              "      <td>0</td>\n",
              "      <td>0</td>\n",
              "      <td>0</td>\n",
              "      <td>0</td>\n",
              "      <td>0</td>\n",
              "      <td>0</td>\n",
              "      <td>0</td>\n",
              "      <td>0</td>\n",
              "      <td>0</td>\n",
              "      <td>381</td>\n",
              "    </tr>\n",
              "    <tr>\n",
              "      <th>1</th>\n",
              "      <td>2013</td>\n",
              "      <td>27.1</td>\n",
              "      <td>10.5</td>\n",
              "      <td>0.0</td>\n",
              "      <td>0</td>\n",
              "      <td>0</td>\n",
              "      <td>0</td>\n",
              "      <td>0</td>\n",
              "      <td>1</td>\n",
              "      <td>0</td>\n",
              "      <td>...</td>\n",
              "      <td>0</td>\n",
              "      <td>0</td>\n",
              "      <td>0</td>\n",
              "      <td>0</td>\n",
              "      <td>0</td>\n",
              "      <td>0</td>\n",
              "      <td>0</td>\n",
              "      <td>0</td>\n",
              "      <td>0</td>\n",
              "      <td>480</td>\n",
              "    </tr>\n",
              "    <tr>\n",
              "      <th>2</th>\n",
              "      <td>2013</td>\n",
              "      <td>28.4</td>\n",
              "      <td>14.1</td>\n",
              "      <td>0.0</td>\n",
              "      <td>0</td>\n",
              "      <td>0</td>\n",
              "      <td>0</td>\n",
              "      <td>0</td>\n",
              "      <td>0</td>\n",
              "      <td>1</td>\n",
              "      <td>...</td>\n",
              "      <td>0</td>\n",
              "      <td>0</td>\n",
              "      <td>0</td>\n",
              "      <td>0</td>\n",
              "      <td>0</td>\n",
              "      <td>0</td>\n",
              "      <td>0</td>\n",
              "      <td>0</td>\n",
              "      <td>0</td>\n",
              "      <td>549</td>\n",
              "    </tr>\n",
              "    <tr>\n",
              "      <th>3</th>\n",
              "      <td>2013</td>\n",
              "      <td>33.4</td>\n",
              "      <td>18.6</td>\n",
              "      <td>0.0</td>\n",
              "      <td>0</td>\n",
              "      <td>0</td>\n",
              "      <td>0</td>\n",
              "      <td>0</td>\n",
              "      <td>0</td>\n",
              "      <td>0</td>\n",
              "      <td>...</td>\n",
              "      <td>0</td>\n",
              "      <td>0</td>\n",
              "      <td>0</td>\n",
              "      <td>0</td>\n",
              "      <td>0</td>\n",
              "      <td>0</td>\n",
              "      <td>0</td>\n",
              "      <td>0</td>\n",
              "      <td>0</td>\n",
              "      <td>505</td>\n",
              "    </tr>\n",
              "    <tr>\n",
              "      <th>4</th>\n",
              "      <td>2013</td>\n",
              "      <td>36.1</td>\n",
              "      <td>18.7</td>\n",
              "      <td>0.0</td>\n",
              "      <td>1</td>\n",
              "      <td>0</td>\n",
              "      <td>0</td>\n",
              "      <td>0</td>\n",
              "      <td>0</td>\n",
              "      <td>0</td>\n",
              "      <td>...</td>\n",
              "      <td>0</td>\n",
              "      <td>0</td>\n",
              "      <td>0</td>\n",
              "      <td>0</td>\n",
              "      <td>0</td>\n",
              "      <td>0</td>\n",
              "      <td>0</td>\n",
              "      <td>0</td>\n",
              "      <td>0</td>\n",
              "      <td>389</td>\n",
              "    </tr>\n",
              "  </tbody>\n",
              "</table>\n",
              "<p>5 rows × 24 columns</p>\n",
              "</div>\n",
              "    <div class=\"colab-df-buttons\">\n",
              "\n",
              "  <div class=\"colab-df-container\">\n",
              "    <button class=\"colab-df-convert\" onclick=\"convertToInteractive('df-127e0f20-b21f-4e55-8b32-75d22b4afb40')\"\n",
              "            title=\"Convert this dataframe to an interactive table.\"\n",
              "            style=\"display:none;\">\n",
              "\n",
              "  <svg xmlns=\"http://www.w3.org/2000/svg\" height=\"24px\" viewBox=\"0 -960 960 960\">\n",
              "    <path d=\"M120-120v-720h720v720H120Zm60-500h600v-160H180v160Zm220 220h160v-160H400v160Zm0 220h160v-160H400v160ZM180-400h160v-160H180v160Zm440 0h160v-160H620v160ZM180-180h160v-160H180v160Zm440 0h160v-160H620v160Z\"/>\n",
              "  </svg>\n",
              "    </button>\n",
              "\n",
              "  <style>\n",
              "    .colab-df-container {\n",
              "      display:flex;\n",
              "      gap: 12px;\n",
              "    }\n",
              "\n",
              "    .colab-df-convert {\n",
              "      background-color: #E8F0FE;\n",
              "      border: none;\n",
              "      border-radius: 50%;\n",
              "      cursor: pointer;\n",
              "      display: none;\n",
              "      fill: #1967D2;\n",
              "      height: 32px;\n",
              "      padding: 0 0 0 0;\n",
              "      width: 32px;\n",
              "    }\n",
              "\n",
              "    .colab-df-convert:hover {\n",
              "      background-color: #E2EBFA;\n",
              "      box-shadow: 0px 1px 2px rgba(60, 64, 67, 0.3), 0px 1px 3px 1px rgba(60, 64, 67, 0.15);\n",
              "      fill: #174EA6;\n",
              "    }\n",
              "\n",
              "    .colab-df-buttons div {\n",
              "      margin-bottom: 4px;\n",
              "    }\n",
              "\n",
              "    [theme=dark] .colab-df-convert {\n",
              "      background-color: #3B4455;\n",
              "      fill: #D2E3FC;\n",
              "    }\n",
              "\n",
              "    [theme=dark] .colab-df-convert:hover {\n",
              "      background-color: #434B5C;\n",
              "      box-shadow: 0px 1px 3px 1px rgba(0, 0, 0, 0.15);\n",
              "      filter: drop-shadow(0px 1px 2px rgba(0, 0, 0, 0.3));\n",
              "      fill: #FFFFFF;\n",
              "    }\n",
              "  </style>\n",
              "\n",
              "    <script>\n",
              "      const buttonEl =\n",
              "        document.querySelector('#df-127e0f20-b21f-4e55-8b32-75d22b4afb40 button.colab-df-convert');\n",
              "      buttonEl.style.display =\n",
              "        google.colab.kernel.accessAllowed ? 'block' : 'none';\n",
              "\n",
              "      async function convertToInteractive(key) {\n",
              "        const element = document.querySelector('#df-127e0f20-b21f-4e55-8b32-75d22b4afb40');\n",
              "        const dataTable =\n",
              "          await google.colab.kernel.invokeFunction('convertToInteractive',\n",
              "                                                    [key], {});\n",
              "        if (!dataTable) return;\n",
              "\n",
              "        const docLinkHtml = 'Like what you see? Visit the ' +\n",
              "          '<a target=\"_blank\" href=https://colab.research.google.com/notebooks/data_table.ipynb>data table notebook</a>'\n",
              "          + ' to learn more about interactive tables.';\n",
              "        element.innerHTML = '';\n",
              "        dataTable['output_type'] = 'display_data';\n",
              "        await google.colab.output.renderOutput(dataTable, element);\n",
              "        const docLink = document.createElement('div');\n",
              "        docLink.innerHTML = docLinkHtml;\n",
              "        element.appendChild(docLink);\n",
              "      }\n",
              "    </script>\n",
              "  </div>\n",
              "\n",
              "\n",
              "<div id=\"df-980bf846-8e86-4976-a7f0-f8f032245b46\">\n",
              "  <button class=\"colab-df-quickchart\" onclick=\"quickchart('df-980bf846-8e86-4976-a7f0-f8f032245b46')\"\n",
              "            title=\"Suggest charts\"\n",
              "            style=\"display:none;\">\n",
              "\n",
              "<svg xmlns=\"http://www.w3.org/2000/svg\" height=\"24px\"viewBox=\"0 0 24 24\"\n",
              "     width=\"24px\">\n",
              "    <g>\n",
              "        <path d=\"M19 3H5c-1.1 0-2 .9-2 2v14c0 1.1.9 2 2 2h14c1.1 0 2-.9 2-2V5c0-1.1-.9-2-2-2zM9 17H7v-7h2v7zm4 0h-2V7h2v10zm4 0h-2v-4h2v4z\"/>\n",
              "    </g>\n",
              "</svg>\n",
              "  </button>\n",
              "\n",
              "<style>\n",
              "  .colab-df-quickchart {\n",
              "      --bg-color: #E8F0FE;\n",
              "      --fill-color: #1967D2;\n",
              "      --hover-bg-color: #E2EBFA;\n",
              "      --hover-fill-color: #174EA6;\n",
              "      --disabled-fill-color: #AAA;\n",
              "      --disabled-bg-color: #DDD;\n",
              "  }\n",
              "\n",
              "  [theme=dark] .colab-df-quickchart {\n",
              "      --bg-color: #3B4455;\n",
              "      --fill-color: #D2E3FC;\n",
              "      --hover-bg-color: #434B5C;\n",
              "      --hover-fill-color: #FFFFFF;\n",
              "      --disabled-bg-color: #3B4455;\n",
              "      --disabled-fill-color: #666;\n",
              "  }\n",
              "\n",
              "  .colab-df-quickchart {\n",
              "    background-color: var(--bg-color);\n",
              "    border: none;\n",
              "    border-radius: 50%;\n",
              "    cursor: pointer;\n",
              "    display: none;\n",
              "    fill: var(--fill-color);\n",
              "    height: 32px;\n",
              "    padding: 0;\n",
              "    width: 32px;\n",
              "  }\n",
              "\n",
              "  .colab-df-quickchart:hover {\n",
              "    background-color: var(--hover-bg-color);\n",
              "    box-shadow: 0 1px 2px rgba(60, 64, 67, 0.3), 0 1px 3px 1px rgba(60, 64, 67, 0.15);\n",
              "    fill: var(--button-hover-fill-color);\n",
              "  }\n",
              "\n",
              "  .colab-df-quickchart-complete:disabled,\n",
              "  .colab-df-quickchart-complete:disabled:hover {\n",
              "    background-color: var(--disabled-bg-color);\n",
              "    fill: var(--disabled-fill-color);\n",
              "    box-shadow: none;\n",
              "  }\n",
              "\n",
              "  .colab-df-spinner {\n",
              "    border: 2px solid var(--fill-color);\n",
              "    border-color: transparent;\n",
              "    border-bottom-color: var(--fill-color);\n",
              "    animation:\n",
              "      spin 1s steps(1) infinite;\n",
              "  }\n",
              "\n",
              "  @keyframes spin {\n",
              "    0% {\n",
              "      border-color: transparent;\n",
              "      border-bottom-color: var(--fill-color);\n",
              "      border-left-color: var(--fill-color);\n",
              "    }\n",
              "    20% {\n",
              "      border-color: transparent;\n",
              "      border-left-color: var(--fill-color);\n",
              "      border-top-color: var(--fill-color);\n",
              "    }\n",
              "    30% {\n",
              "      border-color: transparent;\n",
              "      border-left-color: var(--fill-color);\n",
              "      border-top-color: var(--fill-color);\n",
              "      border-right-color: var(--fill-color);\n",
              "    }\n",
              "    40% {\n",
              "      border-color: transparent;\n",
              "      border-right-color: var(--fill-color);\n",
              "      border-top-color: var(--fill-color);\n",
              "    }\n",
              "    60% {\n",
              "      border-color: transparent;\n",
              "      border-right-color: var(--fill-color);\n",
              "    }\n",
              "    80% {\n",
              "      border-color: transparent;\n",
              "      border-right-color: var(--fill-color);\n",
              "      border-bottom-color: var(--fill-color);\n",
              "    }\n",
              "    90% {\n",
              "      border-color: transparent;\n",
              "      border-bottom-color: var(--fill-color);\n",
              "    }\n",
              "  }\n",
              "</style>\n",
              "\n",
              "  <script>\n",
              "    async function quickchart(key) {\n",
              "      const quickchartButtonEl =\n",
              "        document.querySelector('#' + key + ' button');\n",
              "      quickchartButtonEl.disabled = true;  // To prevent multiple clicks.\n",
              "      quickchartButtonEl.classList.add('colab-df-spinner');\n",
              "      try {\n",
              "        const charts = await google.colab.kernel.invokeFunction(\n",
              "            'suggestCharts', [key], {});\n",
              "      } catch (error) {\n",
              "        console.error('Error during call to suggestCharts:', error);\n",
              "      }\n",
              "      quickchartButtonEl.classList.remove('colab-df-spinner');\n",
              "      quickchartButtonEl.classList.add('colab-df-quickchart-complete');\n",
              "    }\n",
              "    (() => {\n",
              "      let quickchartButtonEl =\n",
              "        document.querySelector('#df-980bf846-8e86-4976-a7f0-f8f032245b46 button');\n",
              "      quickchartButtonEl.style.display =\n",
              "        google.colab.kernel.accessAllowed ? 'block' : 'none';\n",
              "    })();\n",
              "  </script>\n",
              "</div>\n",
              "    </div>\n",
              "  </div>\n"
            ]
          },
          "metadata": {},
          "execution_count": 42
        }
      ]
    },
    {
      "cell_type": "markdown",
      "source": [
        "### **Train-Test Split:**\n",
        "\n",
        "**Random Sampling for Diverse Test Data**\n",
        "\n",
        "We will use random sampling to select rows from the dataframe randomly, which generally ensures a mix of different values across columns.\n",
        "\n",
        "Within rge random sampling we will split the data into training (80%) and testing sets, which is a standard practice for model evaluation."
      ],
      "metadata": {
        "id": "1reF3gFFnNUK"
      }
    },
    {
      "cell_type": "code",
      "source": [
        "# Set a random seed for reproducibility\n",
        "# np.random.seed(123)  # We can choose any number as the seed\n",
        "\n",
        "# Shuffle the entire dataset randomly\n",
        "df_shuffled = df_dnn_1_input.sample(frac=1, random_state=42).reset_index(drop=True)\n",
        "\n",
        "# Split the data into training and testing sets\n",
        "# We want 80% of the data for training and 20% for testing\n",
        "split_index = int(len(df_shuffled) * 0.8)\n",
        "training_set = df_shuffled[:split_index]\n",
        "test_set = df_shuffled[split_index:]\n",
        "\n",
        "# We now have a test set with a diverse selection of data\n",
        "print(test_set.head())"
      ],
      "metadata": {
        "colab": {
          "base_uri": "https://localhost:8080/"
        },
        "id": "_Dtqrl_t3QMg",
        "outputId": "8149b2f4-b899-4268-af0e-39af108937ec"
      },
      "execution_count": null,
      "outputs": [
        {
          "output_type": "stream",
          "name": "stdout",
          "text": [
            "      year  temp  dewp  prcp  Sat  Sun  Mon  Tue  Wed  Thu  ...  Apr  May  \\\n",
            "2028  2018  40.4  32.0  1.06    0    0    1    0    0    0  ...    0    0   \n",
            "2029  2018  52.0  32.8  0.00    0    0    0    0    0    1  ...    0    0   \n",
            "2030  2014  49.4  30.9  0.00    0    0    1    0    0    0  ...    0    0   \n",
            "2031  2013  76.1  62.6  0.00    0    1    0    0    0    0  ...    0    0   \n",
            "2032  2017  49.2  34.4  0.00    0    0    0    0    0    1  ...    0    0   \n",
            "\n",
            "      Jun  Jul  Aug  Sep  Oct  Nov  Dec  NUM_COLLISIONS  \n",
            "2028    0    0    0    0    0    0    1             689  \n",
            "2029    0    0    0    0    0    1    0             631  \n",
            "2030    0    0    0    0    1    0    0             591  \n",
            "2031    1    0    0    0    0    0    0             505  \n",
            "2032    0    0    0    0    0    0    0             563  \n",
            "\n",
            "[5 rows x 24 columns]\n"
          ]
        }
      ]
    },
    {
      "cell_type": "markdown",
      "source": [
        "### **Feature-Label Separation:**\n",
        "\n",
        "We can now separate the features and the target variable (NUM_COLLISIONS) for both training and testing sets."
      ],
      "metadata": {
        "id": "nnlD0TBbnqKN"
      }
    },
    {
      "cell_type": "code",
      "source": [
        "training_features = training_set.copy()\n",
        "test_features = test_set.copy()\n",
        "\n",
        "training_labels = training_features.pop('NUM_COLLISIONS')\n",
        "test_labels = test_features.pop('NUM_COLLISIONS')"
      ],
      "metadata": {
        "id": "HWi2FEuqkDFv"
      },
      "execution_count": null,
      "outputs": []
    },
    {
      "cell_type": "markdown",
      "source": [
        "### **Normalization:**\n",
        "\n",
        "We now use tf.keras.layers.Normalization to normalize the features, which is important for neural network models as they are sensitive to the scale of input data."
      ],
      "metadata": {
        "id": "9cqDly19n9Sw"
      }
    },
    {
      "cell_type": "code",
      "source": [
        "normaliser = tf.keras.layers.Normalization(axis=-1)\n",
        "normaliser.adapt(np.array(training_features))"
      ],
      "metadata": {
        "id": "sjkPlTgClAS9"
      },
      "execution_count": null,
      "outputs": []
    },
    {
      "cell_type": "markdown",
      "source": [
        "### **Model Architecture**:\n",
        "\n",
        "The DNN model (dnn_model_1) has two hidden layers with 64 neurons each(this improves the predictions from 48 neurons tried before), and one output neuron."
      ],
      "metadata": {
        "id": "_RM7tBEvoW-u"
      }
    },
    {
      "cell_type": "code",
      "source": [
        "# This is the only difference, instead of a single layer, we have our normalisation layer (22 inputs), 2 layers of 64, with 1 output. We adjusted this from 48 to improve the set.\n",
        "dnn_model_1 = keras.Sequential([\n",
        "      normaliser,\n",
        "      layers.Dense(64, activation='relu'),\n",
        "      layers.Dense(64, activation='relu'),\n",
        "      layers.Dense(1)\n",
        "  ])\n",
        "\n",
        "dnn_model_1.compile(loss='mean_absolute_error',\n",
        "                optimizer=tf.keras.optimizers.Adam(0.001))"
      ],
      "metadata": {
        "id": "PkuhkfHwlHFx"
      },
      "execution_count": null,
      "outputs": []
    },
    {
      "cell_type": "markdown",
      "source": [
        "### **Model Training**\n",
        "\n",
        "We will train the model for 100 epochs and use a 20% validation split, which allows the model to be evaluated on a part of the training data it hasn't seen during training, helping to monitor for overfitting."
      ],
      "metadata": {
        "id": "MsCtelY3o2jo"
      }
    },
    {
      "cell_type": "code",
      "source": [
        "%%time\n",
        "history = dnn_model_1.fit(\n",
        "    training_features,\n",
        "    training_labels,\n",
        "    validation_split=0.2,\n",
        "    verbose=0,\n",
        "    epochs=100)"
      ],
      "metadata": {
        "id": "hyuArbGylVtD",
        "colab": {
          "base_uri": "https://localhost:8080/"
        },
        "outputId": "ee10cdf9-e7a5-4deb-ce75-c6b09b14a98f"
      },
      "execution_count": null,
      "outputs": [
        {
          "output_type": "stream",
          "name": "stdout",
          "text": [
            "CPU times: user 16.9 s, sys: 748 ms, total: 17.7 s\n",
            "Wall time: 21.8 s\n"
          ]
        }
      ]
    },
    {
      "cell_type": "markdown",
      "source": [
        "### **Model Evaluation**\n",
        "\n",
        "After training the model we can now evaluate the model on the test set, obtaining a mean absolute error (MAE) of 52.76."
      ],
      "metadata": {
        "id": "Pyu6lro-pIKB"
      }
    },
    {
      "cell_type": "code",
      "source": [
        "# remember, we want to minimise this. The model with the lowest is the best.\n",
        "dnn_model_1_results = dnn_model_1.evaluate(test_features, test_labels, verbose=0)\n",
        "print(dnn_model_1_results)"
      ],
      "metadata": {
        "id": "9Z6DOhMFlrcS",
        "colab": {
          "base_uri": "https://localhost:8080/"
        },
        "outputId": "aab8a75f-1935-448e-d5cb-f01cc7ae506c"
      },
      "execution_count": null,
      "outputs": [
        {
          "output_type": "stream",
          "name": "stdout",
          "text": [
            "52.74506759643555\n"
          ]
        }
      ]
    },
    {
      "cell_type": "code",
      "source": [
        "# Extracting three specific rows from the test data\n",
        "# Change the row indices [0, 1, 2] to any other indices you want to use\n",
        "selected_rows = test_set.iloc[[0, 1, 2]]\n",
        "\n",
        "# Formatting the data\n",
        "input_1 = selected_rows[['year', 'temp', 'dewp', 'prcp', 'Sat', 'Sun', 'Mon', 'Tue', 'Wed', 'Thu', 'Fri', 'Jan', 'Feb', 'Mar', 'Apr', 'May', 'Jun', 'Jul', 'Aug', 'Sep', 'Oct', 'Nov', 'Dec']]\n",
        "\n",
        "# Set a random seed for reproducibility\n",
        "#np.random.seed(123)  # We can choose any number as the seed\n",
        "\n",
        "# Make predictions using the DNN model\n",
        "linear_day_predictions = dnn_model_1.predict(input_1[:3])\n",
        "\n",
        "# Output the predictions\n",
        "print(linear_day_predictions)\n"
      ],
      "metadata": {
        "colab": {
          "base_uri": "https://localhost:8080/"
        },
        "id": "uHnRdbifr0a_",
        "outputId": "2b12c07e-ae0a-4a3d-9468-b50996c1c497"
      },
      "execution_count": null,
      "outputs": [
        {
          "output_type": "stream",
          "name": "stdout",
          "text": [
            "1/1 [==============================] - 0s 97ms/step\n",
            "[[638.4358 ]\n",
            " [672.46826]\n",
            " [601.8736 ]]\n"
          ]
        }
      ]
    },
    {
      "cell_type": "markdown",
      "source": [
        "Step 1: Retrieve Specific Input Combinations\n",
        "For each of the three predictions, we'll need to display the corresponding input row. If input_1 is the DataFrame you used for predictions and it contains the exact same rows from the test dataset, you can print these rows:"
      ],
      "metadata": {
        "id": "Vwa0A0zvvYQa"
      }
    },
    {
      "cell_type": "code",
      "source": [
        "print(input_1)\n"
      ],
      "metadata": {
        "colab": {
          "base_uri": "https://localhost:8080/"
        },
        "id": "R2tndUlRvhMy",
        "outputId": "e5901aff-c4be-48de-9a10-ace24eb31510"
      },
      "execution_count": null,
      "outputs": [
        {
          "output_type": "stream",
          "name": "stdout",
          "text": [
            "      year  temp  dewp  prcp  Sat  Sun  Mon  Tue  Wed  Thu  ...  Mar  Apr  \\\n",
            "2028  2018  40.4  32.0  1.06    0    0    1    0    0    0  ...    0    0   \n",
            "2029  2018  52.0  32.8  0.00    0    0    0    0    0    1  ...    0    0   \n",
            "2030  2014  49.4  30.9  0.00    0    0    1    0    0    0  ...    0    0   \n",
            "\n",
            "      May  Jun  Jul  Aug  Sep  Oct  Nov  Dec  \n",
            "2028    0    0    0    0    0    0    0    1  \n",
            "2029    0    0    0    0    0    0    1    0  \n",
            "2030    0    0    0    0    0    1    0    0  \n",
            "\n",
            "[3 rows x 23 columns]\n"
          ]
        }
      ]
    },
    {
      "cell_type": "markdown",
      "source": [
        "Step 2: Compare Predictions with Actual NUM_COLLISIONS\n",
        "Next, we need to compare the model's predictions with the actual number of collisions for these specific days. If test_dataset includes the NUM_COLLISIONS column and the rows are in the same order as input_1, we can directly compare the predictions with the actual values:"
      ],
      "metadata": {
        "id": "_rnxrTI8v3DC"
      }
    },
    {
      "cell_type": "code",
      "source": [
        "# Assuming the indices in input_1 are aligned with those in test_dataset\n",
        "actual_collisions = test_set.loc[input_1.index, 'NUM_COLLISIONS']\n",
        "\n",
        "# Combine predictions with actual values for comparison\n",
        "comparison_df = input_1.copy()\n",
        "comparison_df['Predicted_Collisions'] = linear_day_predictions.flatten()\n",
        "comparison_df['Actual_Collisions'] = actual_collisions\n",
        "\n",
        "# Display the comparison\n",
        "print(comparison_df)\n"
      ],
      "metadata": {
        "colab": {
          "base_uri": "https://localhost:8080/"
        },
        "id": "g0Hz2gzXwAr6",
        "outputId": "65ad4dfc-2021-49ff-d81c-9fb59944b51a"
      },
      "execution_count": null,
      "outputs": [
        {
          "output_type": "stream",
          "name": "stdout",
          "text": [
            "      year  temp  dewp  prcp  Sat  Sun  Mon  Tue  Wed  Thu  ...  May  Jun  \\\n",
            "2028  2018  40.4  32.0  1.06    0    0    1    0    0    0  ...    0    0   \n",
            "2029  2018  52.0  32.8  0.00    0    0    0    0    0    1  ...    0    0   \n",
            "2030  2014  49.4  30.9  0.00    0    0    1    0    0    0  ...    0    0   \n",
            "\n",
            "      Jul  Aug  Sep  Oct  Nov  Dec  Predicted_Collisions  Actual_Collisions  \n",
            "2028    0    0    0    0    0    1            638.435791                689  \n",
            "2029    0    0    0    0    1    0            672.468262                631  \n",
            "2030    0    0    0    1    0    0            601.873596                591  \n",
            "\n",
            "[3 rows x 25 columns]\n"
          ]
        }
      ]
    },
    {
      "cell_type": "markdown",
      "source": [
        "## **Results:**\n",
        "\n",
        "**DNN Model Analysis**\n",
        "\n",
        "**First Prediction (638.43 Collisions)**\n",
        "\n",
        "Year: 2018\n",
        "Temperature: 40.4°F\n",
        "Dew Point: 32.0°F\n",
        "Precipitation: 1.06 inches\n",
        "Day of the Week: Monday\n",
        "Month: December\n",
        "\n",
        "**Second Prediction (672.47)**\n",
        "\n",
        "Year: 2018\n",
        "Temperature: 52.0°F\n",
        "Dew Point: 32.8°F\n",
        "Precipitation: 0.00 inches\n",
        "Day of the Week: Thursday\n",
        "Month: November\n",
        "\n",
        "**Third Prediction (601.87)**\n",
        "\n",
        "Year: 2014\n",
        "Temperature: 49.4°F\n",
        "Dew Point: 30.9°F\n",
        "Precipitation: 0.00 inches\n",
        "Day of the Week: Monday\n",
        "Month: October\n",
        "\n",
        "**Accuracy Assessment**\n",
        "\n",
        "**First Prediction vs. Actual**\n",
        "\n",
        "Predicted: 638.43\n",
        "Actual: 689\n",
        "Difference: -51.43 (Underestimation)\n",
        "\n",
        "**Second Prediction vs. Actual**\n",
        "\n",
        "Predicted: 672.47\n",
        "Actual: 631\n",
        "Difference: 41.34 (Overestimation)\n",
        "\n",
        "**Third Prediction vs. Actual**\n",
        "\n",
        "Predicted: 601.87\n",
        "Actual: 591\n",
        "Difference: 10.87 (Slight Overestimation)\n",
        "\n",
        "**Contextual Interpretation**\n",
        "\n",
        "**Impact of Weather and Time:**\n",
        "\n",
        "The model's predictions seem influenced by weather conditions and time factors. For instance, higher temperatures in predictions 2 and 3 seem to correlate with higher predicted collisions compared to prediction 1. Precipitation in prediction 1 also appears to influence the number of collisions.\n",
        "\n",
        "**Days of the Week and Month Influence:**\n",
        "\n",
        "The predictions also reflect the influence of specific days and months. For instance, prediction 2 (Thursday in November) has a higher predicted number than prediction 1 (Monday in December), possibly indicating the model's sensitivity to these temporal factors.\n",
        "\n",
        "**Model's Predictive Power and Accuracy:**\n",
        "\n",
        "The model shows a mix of underestimation and overestimation across different scenarios. While the predictions are relatively close to actual values, especially in prediction 3, there is still some deviation, suggesting room for model improvement.\n",
        "\n",
        "**Implications for Emergency Services Planning**\n",
        "\n",
        "**Weather-Related Planning:**\n",
        "\n",
        "The model's sensitivity to weather conditions can aid in predicting collision numbers during different weather scenarios, aiding in resource allocation during adverse conditions.\n",
        "\n",
        "**Temporal Trends:**\n",
        "\n",
        "Understanding how different days of the week and months impact collision numbers can inform long-term planning and preparedness strategies.\n",
        "\n",
        "**Model Refinement for Improved Accuracy:**\n",
        "\n",
        "To enhance the model's utility, further refinement could be done. This could involve incorporating additional relevant features, adjusting the model architecture, or employing more advanced modeling techniques."
      ],
      "metadata": {
        "id": "n90JbwNXw1QM"
      }
    },
    {
      "cell_type": "markdown",
      "source": [
        "**Remove Precipitation Variable To Improve Model**\n",
        "\n",
        "Since the precipitation variable \"prcp\" had the lowest correlation vs NUM_COLLISIONS in DNN Model 1, let's remove this variable to see if it improves the accuracy. We will call this 'dnn_model_2' and read in the data from the Assignment 1 report and follow the same steps as we did with dnn_model_1."
      ],
      "metadata": {
        "id": "qUpnXaKO6doD"
      }
    },
    {
      "cell_type": "code",
      "source": [
        "# needed to create the data frame\n",
        "import pandas as pd\n",
        "\n",
        "# needed to help with speedy maths based calculations\n",
        "import numpy as np\n",
        "\n",
        "# create data frame from csv file we hosted on our github\n",
        "df_dnn_2 = pd.read_csv('https://raw.githubusercontent.com/22015866uhi/22015866_Data_Analytics/main/dnnregressiondata2.csv', index_col=0)\n",
        "\n",
        "# Reset the index if 'day' is set as index\n",
        "df_dnn_2.reset_index(inplace=True)\n",
        "\n",
        "# make sure we have our data by printing it out\n",
        "df_dnn_2[:5]\n",
        "# df #all\n",
        "\n"
      ],
      "metadata": {
        "colab": {
          "base_uri": "https://localhost:8080/",
          "height": 235
        },
        "id": "xt74g-847kdo",
        "outputId": "93cf060d-18e4-45ef-b681-5eddc52a2e18"
      },
      "execution_count": null,
      "outputs": [
        {
          "output_type": "execute_result",
          "data": {
            "text/plain": [
              "   Apr  Aug  Dec  Feb  Jan  Jul  Jun  Mar  May  Nov  ...  Sat  Sun  Thu  Tue  \\\n",
              "0    0    0    0    0    1    0    0    0    0    0  ...    0    0    0    1   \n",
              "1    0    0    0    0    1    0    0    0    0    0  ...    0    0    0    0   \n",
              "2    0    0    0    0    1    0    0    0    0    0  ...    0    0    1    0   \n",
              "3    0    0    0    0    1    0    0    0    0    0  ...    0    0    0    0   \n",
              "4    0    0    0    0    1    0    0    0    0    0  ...    1    0    0    0   \n",
              "\n",
              "   Wed  year  month  temp  dewp  NUM_COLLISIONS  \n",
              "0    0  2013    Jan  37.8  23.6             381  \n",
              "1    1  2013    Jan  27.1  10.5             480  \n",
              "2    0  2013    Jan  28.4  14.1             549  \n",
              "3    0  2013    Jan  33.4  18.6             505  \n",
              "4    0  2013    Jan  36.1  18.7             389  \n",
              "\n",
              "[5 rows x 24 columns]"
            ],
            "text/html": [
              "\n",
              "  <div id=\"df-6f6d3d11-52b8-4d1d-ae70-e03dcf6b7005\" class=\"colab-df-container\">\n",
              "    <div>\n",
              "<style scoped>\n",
              "    .dataframe tbody tr th:only-of-type {\n",
              "        vertical-align: middle;\n",
              "    }\n",
              "\n",
              "    .dataframe tbody tr th {\n",
              "        vertical-align: top;\n",
              "    }\n",
              "\n",
              "    .dataframe thead th {\n",
              "        text-align: right;\n",
              "    }\n",
              "</style>\n",
              "<table border=\"1\" class=\"dataframe\">\n",
              "  <thead>\n",
              "    <tr style=\"text-align: right;\">\n",
              "      <th></th>\n",
              "      <th>Apr</th>\n",
              "      <th>Aug</th>\n",
              "      <th>Dec</th>\n",
              "      <th>Feb</th>\n",
              "      <th>Jan</th>\n",
              "      <th>Jul</th>\n",
              "      <th>Jun</th>\n",
              "      <th>Mar</th>\n",
              "      <th>May</th>\n",
              "      <th>Nov</th>\n",
              "      <th>...</th>\n",
              "      <th>Sat</th>\n",
              "      <th>Sun</th>\n",
              "      <th>Thu</th>\n",
              "      <th>Tue</th>\n",
              "      <th>Wed</th>\n",
              "      <th>year</th>\n",
              "      <th>month</th>\n",
              "      <th>temp</th>\n",
              "      <th>dewp</th>\n",
              "      <th>NUM_COLLISIONS</th>\n",
              "    </tr>\n",
              "  </thead>\n",
              "  <tbody>\n",
              "    <tr>\n",
              "      <th>0</th>\n",
              "      <td>0</td>\n",
              "      <td>0</td>\n",
              "      <td>0</td>\n",
              "      <td>0</td>\n",
              "      <td>1</td>\n",
              "      <td>0</td>\n",
              "      <td>0</td>\n",
              "      <td>0</td>\n",
              "      <td>0</td>\n",
              "      <td>0</td>\n",
              "      <td>...</td>\n",
              "      <td>0</td>\n",
              "      <td>0</td>\n",
              "      <td>0</td>\n",
              "      <td>1</td>\n",
              "      <td>0</td>\n",
              "      <td>2013</td>\n",
              "      <td>Jan</td>\n",
              "      <td>37.8</td>\n",
              "      <td>23.6</td>\n",
              "      <td>381</td>\n",
              "    </tr>\n",
              "    <tr>\n",
              "      <th>1</th>\n",
              "      <td>0</td>\n",
              "      <td>0</td>\n",
              "      <td>0</td>\n",
              "      <td>0</td>\n",
              "      <td>1</td>\n",
              "      <td>0</td>\n",
              "      <td>0</td>\n",
              "      <td>0</td>\n",
              "      <td>0</td>\n",
              "      <td>0</td>\n",
              "      <td>...</td>\n",
              "      <td>0</td>\n",
              "      <td>0</td>\n",
              "      <td>0</td>\n",
              "      <td>0</td>\n",
              "      <td>1</td>\n",
              "      <td>2013</td>\n",
              "      <td>Jan</td>\n",
              "      <td>27.1</td>\n",
              "      <td>10.5</td>\n",
              "      <td>480</td>\n",
              "    </tr>\n",
              "    <tr>\n",
              "      <th>2</th>\n",
              "      <td>0</td>\n",
              "      <td>0</td>\n",
              "      <td>0</td>\n",
              "      <td>0</td>\n",
              "      <td>1</td>\n",
              "      <td>0</td>\n",
              "      <td>0</td>\n",
              "      <td>0</td>\n",
              "      <td>0</td>\n",
              "      <td>0</td>\n",
              "      <td>...</td>\n",
              "      <td>0</td>\n",
              "      <td>0</td>\n",
              "      <td>1</td>\n",
              "      <td>0</td>\n",
              "      <td>0</td>\n",
              "      <td>2013</td>\n",
              "      <td>Jan</td>\n",
              "      <td>28.4</td>\n",
              "      <td>14.1</td>\n",
              "      <td>549</td>\n",
              "    </tr>\n",
              "    <tr>\n",
              "      <th>3</th>\n",
              "      <td>0</td>\n",
              "      <td>0</td>\n",
              "      <td>0</td>\n",
              "      <td>0</td>\n",
              "      <td>1</td>\n",
              "      <td>0</td>\n",
              "      <td>0</td>\n",
              "      <td>0</td>\n",
              "      <td>0</td>\n",
              "      <td>0</td>\n",
              "      <td>...</td>\n",
              "      <td>0</td>\n",
              "      <td>0</td>\n",
              "      <td>0</td>\n",
              "      <td>0</td>\n",
              "      <td>0</td>\n",
              "      <td>2013</td>\n",
              "      <td>Jan</td>\n",
              "      <td>33.4</td>\n",
              "      <td>18.6</td>\n",
              "      <td>505</td>\n",
              "    </tr>\n",
              "    <tr>\n",
              "      <th>4</th>\n",
              "      <td>0</td>\n",
              "      <td>0</td>\n",
              "      <td>0</td>\n",
              "      <td>0</td>\n",
              "      <td>1</td>\n",
              "      <td>0</td>\n",
              "      <td>0</td>\n",
              "      <td>0</td>\n",
              "      <td>0</td>\n",
              "      <td>0</td>\n",
              "      <td>...</td>\n",
              "      <td>1</td>\n",
              "      <td>0</td>\n",
              "      <td>0</td>\n",
              "      <td>0</td>\n",
              "      <td>0</td>\n",
              "      <td>2013</td>\n",
              "      <td>Jan</td>\n",
              "      <td>36.1</td>\n",
              "      <td>18.7</td>\n",
              "      <td>389</td>\n",
              "    </tr>\n",
              "  </tbody>\n",
              "</table>\n",
              "<p>5 rows × 24 columns</p>\n",
              "</div>\n",
              "    <div class=\"colab-df-buttons\">\n",
              "\n",
              "  <div class=\"colab-df-container\">\n",
              "    <button class=\"colab-df-convert\" onclick=\"convertToInteractive('df-6f6d3d11-52b8-4d1d-ae70-e03dcf6b7005')\"\n",
              "            title=\"Convert this dataframe to an interactive table.\"\n",
              "            style=\"display:none;\">\n",
              "\n",
              "  <svg xmlns=\"http://www.w3.org/2000/svg\" height=\"24px\" viewBox=\"0 -960 960 960\">\n",
              "    <path d=\"M120-120v-720h720v720H120Zm60-500h600v-160H180v160Zm220 220h160v-160H400v160Zm0 220h160v-160H400v160ZM180-400h160v-160H180v160Zm440 0h160v-160H620v160ZM180-180h160v-160H180v160Zm440 0h160v-160H620v160Z\"/>\n",
              "  </svg>\n",
              "    </button>\n",
              "\n",
              "  <style>\n",
              "    .colab-df-container {\n",
              "      display:flex;\n",
              "      gap: 12px;\n",
              "    }\n",
              "\n",
              "    .colab-df-convert {\n",
              "      background-color: #E8F0FE;\n",
              "      border: none;\n",
              "      border-radius: 50%;\n",
              "      cursor: pointer;\n",
              "      display: none;\n",
              "      fill: #1967D2;\n",
              "      height: 32px;\n",
              "      padding: 0 0 0 0;\n",
              "      width: 32px;\n",
              "    }\n",
              "\n",
              "    .colab-df-convert:hover {\n",
              "      background-color: #E2EBFA;\n",
              "      box-shadow: 0px 1px 2px rgba(60, 64, 67, 0.3), 0px 1px 3px 1px rgba(60, 64, 67, 0.15);\n",
              "      fill: #174EA6;\n",
              "    }\n",
              "\n",
              "    .colab-df-buttons div {\n",
              "      margin-bottom: 4px;\n",
              "    }\n",
              "\n",
              "    [theme=dark] .colab-df-convert {\n",
              "      background-color: #3B4455;\n",
              "      fill: #D2E3FC;\n",
              "    }\n",
              "\n",
              "    [theme=dark] .colab-df-convert:hover {\n",
              "      background-color: #434B5C;\n",
              "      box-shadow: 0px 1px 3px 1px rgba(0, 0, 0, 0.15);\n",
              "      filter: drop-shadow(0px 1px 2px rgba(0, 0, 0, 0.3));\n",
              "      fill: #FFFFFF;\n",
              "    }\n",
              "  </style>\n",
              "\n",
              "    <script>\n",
              "      const buttonEl =\n",
              "        document.querySelector('#df-6f6d3d11-52b8-4d1d-ae70-e03dcf6b7005 button.colab-df-convert');\n",
              "      buttonEl.style.display =\n",
              "        google.colab.kernel.accessAllowed ? 'block' : 'none';\n",
              "\n",
              "      async function convertToInteractive(key) {\n",
              "        const element = document.querySelector('#df-6f6d3d11-52b8-4d1d-ae70-e03dcf6b7005');\n",
              "        const dataTable =\n",
              "          await google.colab.kernel.invokeFunction('convertToInteractive',\n",
              "                                                    [key], {});\n",
              "        if (!dataTable) return;\n",
              "\n",
              "        const docLinkHtml = 'Like what you see? Visit the ' +\n",
              "          '<a target=\"_blank\" href=https://colab.research.google.com/notebooks/data_table.ipynb>data table notebook</a>'\n",
              "          + ' to learn more about interactive tables.';\n",
              "        element.innerHTML = '';\n",
              "        dataTable['output_type'] = 'display_data';\n",
              "        await google.colab.output.renderOutput(dataTable, element);\n",
              "        const docLink = document.createElement('div');\n",
              "        docLink.innerHTML = docLinkHtml;\n",
              "        element.appendChild(docLink);\n",
              "      }\n",
              "    </script>\n",
              "  </div>\n",
              "\n",
              "\n",
              "<div id=\"df-54693f82-691e-445c-b418-f368f1599ce8\">\n",
              "  <button class=\"colab-df-quickchart\" onclick=\"quickchart('df-54693f82-691e-445c-b418-f368f1599ce8')\"\n",
              "            title=\"Suggest charts\"\n",
              "            style=\"display:none;\">\n",
              "\n",
              "<svg xmlns=\"http://www.w3.org/2000/svg\" height=\"24px\"viewBox=\"0 0 24 24\"\n",
              "     width=\"24px\">\n",
              "    <g>\n",
              "        <path d=\"M19 3H5c-1.1 0-2 .9-2 2v14c0 1.1.9 2 2 2h14c1.1 0 2-.9 2-2V5c0-1.1-.9-2-2-2zM9 17H7v-7h2v7zm4 0h-2V7h2v10zm4 0h-2v-4h2v4z\"/>\n",
              "    </g>\n",
              "</svg>\n",
              "  </button>\n",
              "\n",
              "<style>\n",
              "  .colab-df-quickchart {\n",
              "      --bg-color: #E8F0FE;\n",
              "      --fill-color: #1967D2;\n",
              "      --hover-bg-color: #E2EBFA;\n",
              "      --hover-fill-color: #174EA6;\n",
              "      --disabled-fill-color: #AAA;\n",
              "      --disabled-bg-color: #DDD;\n",
              "  }\n",
              "\n",
              "  [theme=dark] .colab-df-quickchart {\n",
              "      --bg-color: #3B4455;\n",
              "      --fill-color: #D2E3FC;\n",
              "      --hover-bg-color: #434B5C;\n",
              "      --hover-fill-color: #FFFFFF;\n",
              "      --disabled-bg-color: #3B4455;\n",
              "      --disabled-fill-color: #666;\n",
              "  }\n",
              "\n",
              "  .colab-df-quickchart {\n",
              "    background-color: var(--bg-color);\n",
              "    border: none;\n",
              "    border-radius: 50%;\n",
              "    cursor: pointer;\n",
              "    display: none;\n",
              "    fill: var(--fill-color);\n",
              "    height: 32px;\n",
              "    padding: 0;\n",
              "    width: 32px;\n",
              "  }\n",
              "\n",
              "  .colab-df-quickchart:hover {\n",
              "    background-color: var(--hover-bg-color);\n",
              "    box-shadow: 0 1px 2px rgba(60, 64, 67, 0.3), 0 1px 3px 1px rgba(60, 64, 67, 0.15);\n",
              "    fill: var(--button-hover-fill-color);\n",
              "  }\n",
              "\n",
              "  .colab-df-quickchart-complete:disabled,\n",
              "  .colab-df-quickchart-complete:disabled:hover {\n",
              "    background-color: var(--disabled-bg-color);\n",
              "    fill: var(--disabled-fill-color);\n",
              "    box-shadow: none;\n",
              "  }\n",
              "\n",
              "  .colab-df-spinner {\n",
              "    border: 2px solid var(--fill-color);\n",
              "    border-color: transparent;\n",
              "    border-bottom-color: var(--fill-color);\n",
              "    animation:\n",
              "      spin 1s steps(1) infinite;\n",
              "  }\n",
              "\n",
              "  @keyframes spin {\n",
              "    0% {\n",
              "      border-color: transparent;\n",
              "      border-bottom-color: var(--fill-color);\n",
              "      border-left-color: var(--fill-color);\n",
              "    }\n",
              "    20% {\n",
              "      border-color: transparent;\n",
              "      border-left-color: var(--fill-color);\n",
              "      border-top-color: var(--fill-color);\n",
              "    }\n",
              "    30% {\n",
              "      border-color: transparent;\n",
              "      border-left-color: var(--fill-color);\n",
              "      border-top-color: var(--fill-color);\n",
              "      border-right-color: var(--fill-color);\n",
              "    }\n",
              "    40% {\n",
              "      border-color: transparent;\n",
              "      border-right-color: var(--fill-color);\n",
              "      border-top-color: var(--fill-color);\n",
              "    }\n",
              "    60% {\n",
              "      border-color: transparent;\n",
              "      border-right-color: var(--fill-color);\n",
              "    }\n",
              "    80% {\n",
              "      border-color: transparent;\n",
              "      border-right-color: var(--fill-color);\n",
              "      border-bottom-color: var(--fill-color);\n",
              "    }\n",
              "    90% {\n",
              "      border-color: transparent;\n",
              "      border-bottom-color: var(--fill-color);\n",
              "    }\n",
              "  }\n",
              "</style>\n",
              "\n",
              "  <script>\n",
              "    async function quickchart(key) {\n",
              "      const quickchartButtonEl =\n",
              "        document.querySelector('#' + key + ' button');\n",
              "      quickchartButtonEl.disabled = true;  // To prevent multiple clicks.\n",
              "      quickchartButtonEl.classList.add('colab-df-spinner');\n",
              "      try {\n",
              "        const charts = await google.colab.kernel.invokeFunction(\n",
              "            'suggestCharts', [key], {});\n",
              "      } catch (error) {\n",
              "        console.error('Error during call to suggestCharts:', error);\n",
              "      }\n",
              "      quickchartButtonEl.classList.remove('colab-df-spinner');\n",
              "      quickchartButtonEl.classList.add('colab-df-quickchart-complete');\n",
              "    }\n",
              "    (() => {\n",
              "      let quickchartButtonEl =\n",
              "        document.querySelector('#df-54693f82-691e-445c-b418-f368f1599ce8 button');\n",
              "      quickchartButtonEl.style.display =\n",
              "        google.colab.kernel.accessAllowed ? 'block' : 'none';\n",
              "    })();\n",
              "  </script>\n",
              "</div>\n",
              "    </div>\n",
              "  </div>\n"
            ]
          },
          "metadata": {},
          "execution_count": 52
        }
      ]
    },
    {
      "cell_type": "code",
      "source": [
        "dnn_input_data_2 = [df_dnn_2[\"year\"], df_dnn_2[\"temp\"], df_dnn_2[\"dewp\"], df_dnn_2[\"Sat\"], df_dnn_2[\"Sun\"], df_dnn_2[\"Mon\"], df_dnn_2[\"Tue\"], df_dnn_2[\"Wed\"], df_dnn_2[\"Thu\"], df_dnn_2[\"Fri\"], df_dnn_2[\"Jan\"], df_dnn_2[\"Feb\"], df_dnn_2[\"Mar\"], df_dnn_2[\"Apr\"], df_dnn_2[\"May\"], df_dnn_2[\"Jun\"], df_dnn_2[\"Jul\"], df_dnn_2[\"Aug\"], df_dnn_2[\"Sep\"], df_dnn_2[\"Oct\"], df_dnn_2[\"Nov\"], df_dnn_2[\"Dec\"], df_dnn_2[\"NUM_COLLISIONS\"]]\n",
        "headers = [\"year\",\"temp\", \"dewp\", \"Sat\",\"Sun\",\"Mon\",\"Tue\",\"Wed\",\"Thu\",\"Fri\",\"Jan\",\"Feb\",\"Mar\",\"Apr\",\"May\",\"Jun\",\"Jul\",\"Aug\",\"Sep\",\"Oct\",\"Nov\",\"Dec\",\"NUM_COLLISIONS\"]\n",
        "df_dnn_input_2 = pd.concat(dnn_input_data_2, axis=1, keys=headers)\n",
        "\n",
        "# Set a random seed for reproducibility\n",
        "# np.random.seed(123)  # We can choose any number as the seed\n",
        "\n",
        "# Shuffle the entire dataset randomly\n",
        "df_shuffled_2 = df_dnn_input_2.sample(frac=1, random_state=42).reset_index(drop=True)\n",
        "\n",
        "# Split the data into training and testing sets\n",
        "# We want 80% of the data for training and 20% for testing\n",
        "split_index = int(len(df_shuffled_2) * 0.8)\n",
        "training_set_2 = df_shuffled_2[:split_index]\n",
        "test_set_2 = df_shuffled_2[split_index:]\n",
        "\n",
        "# Separate features and target variable for training and testing sets\n",
        "training_features_2 = training_set_2.copy()\n",
        "test_features_2 = test_set_2.copy()\n",
        "\n",
        "training_labels_2 = training_features_2.pop('NUM_COLLISIONS')\n",
        "test_labels_2 = test_features_2.pop('NUM_COLLISIONS')\n",
        "\n",
        "# Normalizer layer\n",
        "normaliser_2 = tf.keras.layers.Normalization(axis=-1)\n",
        "normaliser_2.adapt(np.array(training_features_2))\n",
        "\n",
        "# Define the model\n",
        "dnn_model_2 = keras.Sequential([\n",
        "    normaliser_2,\n",
        "    layers.Dense(64, activation='relu'),\n",
        "    layers.Dense(64, activation='relu'),\n",
        "    layers.Dense(1)\n",
        "])\n",
        "\n",
        "# Compile the model\n",
        "dnn_model_2.compile(loss='mean_absolute_error', optimizer=tf.keras.optimizers.Adam(0.001))\n",
        "\n",
        "# Train the model\n",
        "history_2 = dnn_model_2.fit(\n",
        "    training_features_2,\n",
        "    training_labels_2,\n",
        "    validation_split=0.2,\n",
        "    verbose=0,\n",
        "    epochs=100\n",
        ")\n",
        "\n",
        "\n"
      ],
      "metadata": {
        "id": "rgbxsJyH9H8N"
      },
      "execution_count": null,
      "outputs": []
    },
    {
      "cell_type": "code",
      "source": [
        "# Evaluate the model\n",
        "dnn_model_2_results = dnn_model_2.evaluate(test_features_2, test_labels_2, verbose=0)\n",
        "print(dnn_model_2_results)\n"
      ],
      "metadata": {
        "colab": {
          "base_uri": "https://localhost:8080/"
        },
        "id": "-XAORpaHR-Br",
        "outputId": "d23bcd5d-ba8b-4294-a090-2a4392bcf45e"
      },
      "execution_count": null,
      "outputs": [
        {
          "output_type": "stream",
          "name": "stdout",
          "text": [
            "53.3503532409668\n"
          ]
        }
      ]
    },
    {
      "cell_type": "code",
      "source": [
        "# Assuming the same rows [0, 1, 2] as in dnn_model_1\n",
        "selected_rows_2 = test_set_2.iloc[[0, 1, 2]]\n",
        "\n",
        "# Make predictions\n",
        "predictions_2 = dnn_model_2.predict(selected_rows_2.drop('NUM_COLLISIONS', axis=1))\n",
        "\n",
        "# Compare predictions with actual values\n",
        "comparison_df_2 = selected_rows_2.copy()\n",
        "comparison_df_2['Predicted_Collisions'] = predictions_2.flatten()\n",
        "\n",
        "# Display the comparison\n",
        "print(comparison_df_2)\n"
      ],
      "metadata": {
        "colab": {
          "base_uri": "https://localhost:8080/"
        },
        "id": "OQZR0z3_cSKd",
        "outputId": "7c275608-e36e-4e54-8236-f3748330e482"
      },
      "execution_count": null,
      "outputs": [
        {
          "output_type": "stream",
          "name": "stdout",
          "text": [
            "1/1 [==============================] - 0s 70ms/step\n",
            "      year  temp  dewp  Sat  Sun  Mon  Tue  Wed  Thu  Fri  ...  May  Jun  Jul  \\\n",
            "2028  2018  40.4  32.0    0    0    1    0    0    0    0  ...    0    0    0   \n",
            "2029  2018  52.0  32.8    0    0    0    0    0    1    0  ...    0    0    0   \n",
            "2030  2014  49.4  30.9    0    0    1    0    0    0    0  ...    0    0    0   \n",
            "\n",
            "      Aug  Sep  Oct  Nov  Dec  NUM_COLLISIONS  Predicted_Collisions  \n",
            "2028    0    0    0    0    1             689            625.869690  \n",
            "2029    0    0    0    1    0             631            667.956726  \n",
            "2030    0    0    1    0    0             591            598.903381  \n",
            "\n",
            "[3 rows x 24 columns]\n"
          ]
        }
      ]
    },
    {
      "cell_type": "code",
      "source": [
        "from sklearn.metrics import mean_squared_error, r2_score\n",
        "\n",
        "# Predictions from dnn_model_1\n",
        "predictions_1 = dnn_model_1.predict(test_features)\n",
        "mae_1 = np.mean(np.abs(predictions_1.flatten() - test_labels))\n",
        "mse_1 = mean_squared_error(test_labels, predictions_1.flatten())\n",
        "r2_1 = r2_score(test_labels, predictions_1.flatten())\n",
        "\n",
        "# Predictions from dnn_model_2\n",
        "# Note: Make sure test_features_2 does not contain the 'prcp' column\n",
        "predictions_2 = dnn_model_2.predict(test_features_2)\n",
        "mae_2 = np.mean(np.abs(predictions_2.flatten() - test_labels_2))\n",
        "mse_2 = mean_squared_error(test_labels_2, predictions_2.flatten())\n",
        "r2_2 = r2_score(test_labels_2, predictions_2.flatten())\n",
        "\n",
        "# Print the metrics for comparison\n",
        "print(\"dnn_model_1 Metrics: MAE =\", mae_1, \"MSE =\", mse_1, \"R2 =\", r2_1)\n",
        "print(\"dnn_model_2 Metrics: MAE =\", mae_2, \"MSE =\", mse_2, \"R2 =\", r2_2)\n"
      ],
      "metadata": {
        "colab": {
          "base_uri": "https://localhost:8080/"
        },
        "id": "wmgukyHjdTYD",
        "outputId": "1c5e06c6-4858-47bf-ba2b-4f64a2d51ce2"
      },
      "execution_count": null,
      "outputs": [
        {
          "output_type": "stream",
          "name": "stdout",
          "text": [
            "16/16 [==============================] - 0s 2ms/step\n",
            "16/16 [==============================] - 0s 2ms/step\n",
            "dnn_model_1 Metrics: MAE = 52.74507318681044 MSE = 5203.674955493212 R2 = 0.40122212457980744\n",
            "dnn_model_2 Metrics: MAE = 53.35035016362719 MSE = 5245.4375827317335 R2 = 0.3964165713076052\n"
          ]
        }
      ]
    },
    {
      "cell_type": "markdown",
      "source": [
        "Here's an analysis of the performance of dnn_model_1 and dnn_model_2 using the metrics MAE, MSE, and R²:\n",
        "\n",
        "**Mean Absolute Error (MAE):**\n",
        "\n",
        "dnn_model_1: MAE = 52.93\n",
        "\n",
        "dnn_model_2: MAE = 53.32\n",
        "\n",
        "**Interpretation:**\n",
        "\n",
        "The MAE indicates the average deviation of predicted values from the actual values. dnn_model_1 has a slightly lower MAE compared to dnn_model_2, meaning it generally makes predictions that are closer to the actual number of collisions.\n",
        "\n",
        "**Mean Squared Error (MSE):**\n",
        "\n",
        "dnn_model_1: MSE = 5194.08\n",
        "\n",
        "dnn_model_2: MSE = 5270.91\n",
        "\n",
        "**Interpretation:**\n",
        "\n",
        "MSE is similar to MAE but gives more weight to larger errors, as the errors are squared before they are averaged. The lower MSE in dnn_model_1 suggests that it not only predicts values closer to the actual figures on average (as indicated by MAE) but also makes fewer large errors compared to dnn_model_2.\n",
        "\n",
        "**R-squared (R²):**\n",
        "\n",
        "dnn_model_1: R² = 0.4023\n",
        "\n",
        "dnn_model_2: R² = 0.3935\n",
        "\n",
        "**Interpretation:**\n",
        "\n",
        "R² measures the proportion of the variance in the dependent variable (number of collisions) that is predictable from the independent variables (features like weather conditions, day of the week, etc.). A higher R² value indicates a better fit of the model to the data. dnn_model_1 has a slightly higher R², suggesting it explains the variability in collision numbers marginally better than dnn_model_2.\n",
        "\n",
        "**Which Model to Choose?**\n",
        "\n",
        "Overall Performance: dnn_model_1 outperforms dnn_model_2 across all three metrics. It has a lower MAE and MSE and a higher R². This suggests that dnn_model_1 is generally more accurate and has a better fit to the data.\n",
        "\n",
        "**Impact of 'prcp' Feature:**\n",
        "\n",
        "The presence of the 'prcp' (precipitation) feature in dnn_model_1 appears to contribute positively to the model's performance. Its removal in dnn_model_2 led to a marginal decrease in performance across all metrics, indicating that precipitation data plays a role, albeit a small one, in predicting traffic collisions.\n",
        "\n",
        "**Recommendation:**\n",
        "\n",
        "Based on these results, dnn_model_1 is recommended as the preferred model for predicting traffic collisions. It demonstrates better accuracy and fit, implying that it could provide slightly more reliable predictions for use in applications such as planning and optimizing emergency services responses."
      ],
      "metadata": {
        "id": "ciHLXTTmky25"
      }
    },
    {
      "cell_type": "markdown",
      "source": [
        "# **Conclusion**\n",
        "\n",
        "**Context and Objective**\n",
        "\n",
        "This comprehensive report aimed to develop predictive models to estimate the number of traffic collisions in New York City based on various factors, focusing on aiding the emergency services in optimizing response strategies.\n",
        "\n",
        "This part of the analysis encompassed linear regression models and Deep Neural Network (DNN) regression models, utilising datasets with incremental inclusion of weather-related variables.\n",
        "\n",
        "\n",
        "**Findings from DNN Regression Models**\n",
        "\n",
        "**DNN Model 1 (Multiple Variables including 'prcp'):**\n",
        "\n",
        "Demonstrated sensitivity to weather conditions and time factors. MAE: 52.75, MSE: 5203.67, R²: 0.4012.\n",
        "\n",
        "**DNN Model 2 (Excluding 'prcp'):**\n",
        "\n",
        "Slight decrease in performance upon removing the 'prcp' variable. MAE: 53.35, MSE: 5245.44, R²: 0.3964.\n",
        "\n",
        "**DNN Model Insights:**\n",
        "\n",
        "Weather and Time Impact: Predictions indicated that weather conditions and time factors (days of the week, months) significantly influence collision numbers.\n",
        "\n",
        "**Accuracy Assessment:**\n",
        "\n",
        "The models showed a mix of underestimation and overestimation. The DNN Model 1 was slightly more accurate overall.\n",
        "\n",
        "**Recommendation:**\n",
        "\n",
        "DNN Model 1 is preferred for its marginally better accuracy and fit. The inclusion of 'prcp' contributes positively, albeit slightly, to model performance.\n",
        "\n",
        "**Comprehensive Summary**\n",
        "\n",
        "**Linear Regression Models:**\n",
        "\n",
        "Offer straightforward predictions with increasing complexity and accuracy from Model 1 to Model 3.\n",
        "\n",
        "**DNN Models:**\n",
        "\n",
        "Provide a more nuanced understanding of the interplay between weather, time, and collision numbers, with DNN Model 1 slightly outperforming Model 2.\n",
        "\n",
        "**Recommendation for Emergency Services:**\n",
        "\n",
        "For simplicity and immediate insights: Linear Regression Model 1.\n",
        "For detailed planning and comprehensive analysis: Linear Regression Model 3 or DNN Model 1.\n",
        "\n",
        "**Actionable Strategy:**\n",
        "\n",
        "Enhanced preparedness towards the weekend and during extreme temperatures(hot and cold) or humid conditions, could be beneficial.\n",
        "\n",
        "\n",
        "\n"
      ],
      "metadata": {
        "id": "VxxGZtyOluF4"
      }
    }
  ]
}